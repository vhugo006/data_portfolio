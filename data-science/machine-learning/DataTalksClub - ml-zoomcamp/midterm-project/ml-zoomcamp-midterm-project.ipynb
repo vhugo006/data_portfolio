{
 "cells": [
  {
   "cell_type": "markdown",
   "metadata": {},
   "source": [
    "# Mid-term project"
   ]
  },
  {
   "cell_type": "markdown",
   "metadata": {},
   "source": [
    "## Data preparation"
   ]
  },
  {
   "cell_type": "code",
   "execution_count": 163,
   "metadata": {},
   "outputs": [],
   "source": [
    "import pandas as pd\n",
    "import numpy as np\n",
    "\n",
    "import seaborn as sns\n",
    "from matplotlib import pyplot as plt\n",
    "%matplotlib inline"
   ]
  },
  {
   "cell_type": "code",
   "execution_count": 164,
   "metadata": {},
   "outputs": [],
   "source": [
    "#data = 'https://www.kaggle.com/datasets/nelgiriyewithana/credit-card-fraud-detection-dataset-2023/download?datasetVersionNumber=1'\n",
    "#!wget $data"
   ]
  },
  {
   "cell_type": "code",
   "execution_count": 165,
   "metadata": {},
   "outputs": [
    {
     "data": {
      "text/html": [
       "<div>\n",
       "<style scoped>\n",
       "    .dataframe tbody tr th:only-of-type {\n",
       "        vertical-align: middle;\n",
       "    }\n",
       "\n",
       "    .dataframe tbody tr th {\n",
       "        vertical-align: top;\n",
       "    }\n",
       "\n",
       "    .dataframe thead th {\n",
       "        text-align: right;\n",
       "    }\n",
       "</style>\n",
       "<table border=\"1\" class=\"dataframe\">\n",
       "  <thead>\n",
       "    <tr style=\"text-align: right;\">\n",
       "      <th></th>\n",
       "      <th>0</th>\n",
       "      <th>1</th>\n",
       "      <th>2</th>\n",
       "      <th>3</th>\n",
       "      <th>4</th>\n",
       "    </tr>\n",
       "  </thead>\n",
       "  <tbody>\n",
       "    <tr>\n",
       "      <th>id</th>\n",
       "      <td>0.000000</td>\n",
       "      <td>1.000000</td>\n",
       "      <td>2.000000</td>\n",
       "      <td>3.000000</td>\n",
       "      <td>4.000000</td>\n",
       "    </tr>\n",
       "    <tr>\n",
       "      <th>V1</th>\n",
       "      <td>-0.260648</td>\n",
       "      <td>0.985100</td>\n",
       "      <td>-0.260272</td>\n",
       "      <td>-0.152152</td>\n",
       "      <td>-0.206820</td>\n",
       "    </tr>\n",
       "    <tr>\n",
       "      <th>V2</th>\n",
       "      <td>-0.469648</td>\n",
       "      <td>-0.356045</td>\n",
       "      <td>-0.949385</td>\n",
       "      <td>-0.508959</td>\n",
       "      <td>-0.165280</td>\n",
       "    </tr>\n",
       "    <tr>\n",
       "      <th>V3</th>\n",
       "      <td>2.496266</td>\n",
       "      <td>0.558056</td>\n",
       "      <td>1.728538</td>\n",
       "      <td>1.746840</td>\n",
       "      <td>1.527053</td>\n",
       "    </tr>\n",
       "    <tr>\n",
       "      <th>V4</th>\n",
       "      <td>-0.083724</td>\n",
       "      <td>-0.429654</td>\n",
       "      <td>-0.457986</td>\n",
       "      <td>-1.090178</td>\n",
       "      <td>-0.448293</td>\n",
       "    </tr>\n",
       "    <tr>\n",
       "      <th>V5</th>\n",
       "      <td>0.129681</td>\n",
       "      <td>0.277140</td>\n",
       "      <td>0.074062</td>\n",
       "      <td>0.249486</td>\n",
       "      <td>0.106125</td>\n",
       "    </tr>\n",
       "    <tr>\n",
       "      <th>V6</th>\n",
       "      <td>0.732898</td>\n",
       "      <td>0.428605</td>\n",
       "      <td>1.419481</td>\n",
       "      <td>1.143312</td>\n",
       "      <td>0.530549</td>\n",
       "    </tr>\n",
       "    <tr>\n",
       "      <th>V7</th>\n",
       "      <td>0.519014</td>\n",
       "      <td>0.406466</td>\n",
       "      <td>0.743511</td>\n",
       "      <td>0.518269</td>\n",
       "      <td>0.658849</td>\n",
       "    </tr>\n",
       "    <tr>\n",
       "      <th>V8</th>\n",
       "      <td>-0.130006</td>\n",
       "      <td>-0.133118</td>\n",
       "      <td>-0.095576</td>\n",
       "      <td>-0.065130</td>\n",
       "      <td>-0.212660</td>\n",
       "    </tr>\n",
       "    <tr>\n",
       "      <th>V9</th>\n",
       "      <td>0.727159</td>\n",
       "      <td>0.347452</td>\n",
       "      <td>-0.261297</td>\n",
       "      <td>-0.205698</td>\n",
       "      <td>1.049921</td>\n",
       "    </tr>\n",
       "    <tr>\n",
       "      <th>V10</th>\n",
       "      <td>0.637735</td>\n",
       "      <td>0.529808</td>\n",
       "      <td>0.690708</td>\n",
       "      <td>0.575231</td>\n",
       "      <td>0.968046</td>\n",
       "    </tr>\n",
       "    <tr>\n",
       "      <th>V11</th>\n",
       "      <td>-0.987020</td>\n",
       "      <td>0.140107</td>\n",
       "      <td>-0.272985</td>\n",
       "      <td>-0.752581</td>\n",
       "      <td>-1.203171</td>\n",
       "    </tr>\n",
       "    <tr>\n",
       "      <th>V12</th>\n",
       "      <td>0.293438</td>\n",
       "      <td>1.564246</td>\n",
       "      <td>0.659201</td>\n",
       "      <td>0.737483</td>\n",
       "      <td>1.029577</td>\n",
       "    </tr>\n",
       "    <tr>\n",
       "      <th>V13</th>\n",
       "      <td>-0.941386</td>\n",
       "      <td>0.574074</td>\n",
       "      <td>0.805173</td>\n",
       "      <td>0.592994</td>\n",
       "      <td>1.439310</td>\n",
       "    </tr>\n",
       "    <tr>\n",
       "      <th>V14</th>\n",
       "      <td>0.549020</td>\n",
       "      <td>0.627719</td>\n",
       "      <td>0.616874</td>\n",
       "      <td>0.559535</td>\n",
       "      <td>0.241454</td>\n",
       "    </tr>\n",
       "    <tr>\n",
       "      <th>V15</th>\n",
       "      <td>1.804879</td>\n",
       "      <td>0.706121</td>\n",
       "      <td>3.069025</td>\n",
       "      <td>-0.697664</td>\n",
       "      <td>0.153008</td>\n",
       "    </tr>\n",
       "    <tr>\n",
       "      <th>V16</th>\n",
       "      <td>0.215598</td>\n",
       "      <td>0.789188</td>\n",
       "      <td>-0.577514</td>\n",
       "      <td>-0.030669</td>\n",
       "      <td>0.224538</td>\n",
       "    </tr>\n",
       "    <tr>\n",
       "      <th>V17</th>\n",
       "      <td>0.512307</td>\n",
       "      <td>0.403810</td>\n",
       "      <td>0.886526</td>\n",
       "      <td>0.242629</td>\n",
       "      <td>0.366466</td>\n",
       "    </tr>\n",
       "    <tr>\n",
       "      <th>V18</th>\n",
       "      <td>0.333644</td>\n",
       "      <td>0.201799</td>\n",
       "      <td>0.239442</td>\n",
       "      <td>2.178616</td>\n",
       "      <td>0.291782</td>\n",
       "    </tr>\n",
       "    <tr>\n",
       "      <th>V19</th>\n",
       "      <td>0.124270</td>\n",
       "      <td>-0.340687</td>\n",
       "      <td>-2.366079</td>\n",
       "      <td>-1.345060</td>\n",
       "      <td>0.445317</td>\n",
       "    </tr>\n",
       "    <tr>\n",
       "      <th>V20</th>\n",
       "      <td>0.091202</td>\n",
       "      <td>-0.233984</td>\n",
       "      <td>0.361652</td>\n",
       "      <td>-0.378223</td>\n",
       "      <td>0.247237</td>\n",
       "    </tr>\n",
       "    <tr>\n",
       "      <th>V21</th>\n",
       "      <td>-0.110552</td>\n",
       "      <td>-0.194936</td>\n",
       "      <td>-0.005020</td>\n",
       "      <td>-0.146927</td>\n",
       "      <td>-0.106984</td>\n",
       "    </tr>\n",
       "    <tr>\n",
       "      <th>V22</th>\n",
       "      <td>0.217606</td>\n",
       "      <td>-0.605761</td>\n",
       "      <td>0.702906</td>\n",
       "      <td>-0.038212</td>\n",
       "      <td>0.729727</td>\n",
       "    </tr>\n",
       "    <tr>\n",
       "      <th>V23</th>\n",
       "      <td>-0.134794</td>\n",
       "      <td>0.079469</td>\n",
       "      <td>0.945045</td>\n",
       "      <td>-0.214048</td>\n",
       "      <td>-0.161666</td>\n",
       "    </tr>\n",
       "    <tr>\n",
       "      <th>V24</th>\n",
       "      <td>0.165959</td>\n",
       "      <td>-0.577395</td>\n",
       "      <td>-1.154666</td>\n",
       "      <td>-1.893131</td>\n",
       "      <td>0.312561</td>\n",
       "    </tr>\n",
       "    <tr>\n",
       "      <th>V25</th>\n",
       "      <td>0.126280</td>\n",
       "      <td>0.190090</td>\n",
       "      <td>-0.605564</td>\n",
       "      <td>1.003963</td>\n",
       "      <td>-0.414116</td>\n",
       "    </tr>\n",
       "    <tr>\n",
       "      <th>V26</th>\n",
       "      <td>-0.434824</td>\n",
       "      <td>0.296503</td>\n",
       "      <td>-0.312895</td>\n",
       "      <td>-0.515950</td>\n",
       "      <td>1.071126</td>\n",
       "    </tr>\n",
       "    <tr>\n",
       "      <th>V27</th>\n",
       "      <td>-0.081230</td>\n",
       "      <td>-0.248052</td>\n",
       "      <td>-0.300258</td>\n",
       "      <td>-0.165316</td>\n",
       "      <td>0.023712</td>\n",
       "    </tr>\n",
       "    <tr>\n",
       "      <th>V28</th>\n",
       "      <td>-0.151045</td>\n",
       "      <td>-0.064512</td>\n",
       "      <td>-0.244718</td>\n",
       "      <td>0.048424</td>\n",
       "      <td>0.419117</td>\n",
       "    </tr>\n",
       "    <tr>\n",
       "      <th>Amount</th>\n",
       "      <td>17982.100000</td>\n",
       "      <td>6531.370000</td>\n",
       "      <td>2513.540000</td>\n",
       "      <td>5384.440000</td>\n",
       "      <td>14278.970000</td>\n",
       "    </tr>\n",
       "    <tr>\n",
       "      <th>Class</th>\n",
       "      <td>0.000000</td>\n",
       "      <td>0.000000</td>\n",
       "      <td>0.000000</td>\n",
       "      <td>0.000000</td>\n",
       "      <td>0.000000</td>\n",
       "    </tr>\n",
       "  </tbody>\n",
       "</table>\n",
       "</div>"
      ],
      "text/plain": [
       "                   0            1            2            3             4\n",
       "id          0.000000     1.000000     2.000000     3.000000      4.000000\n",
       "V1         -0.260648     0.985100    -0.260272    -0.152152     -0.206820\n",
       "V2         -0.469648    -0.356045    -0.949385    -0.508959     -0.165280\n",
       "V3          2.496266     0.558056     1.728538     1.746840      1.527053\n",
       "V4         -0.083724    -0.429654    -0.457986    -1.090178     -0.448293\n",
       "V5          0.129681     0.277140     0.074062     0.249486      0.106125\n",
       "V6          0.732898     0.428605     1.419481     1.143312      0.530549\n",
       "V7          0.519014     0.406466     0.743511     0.518269      0.658849\n",
       "V8         -0.130006    -0.133118    -0.095576    -0.065130     -0.212660\n",
       "V9          0.727159     0.347452    -0.261297    -0.205698      1.049921\n",
       "V10         0.637735     0.529808     0.690708     0.575231      0.968046\n",
       "V11        -0.987020     0.140107    -0.272985    -0.752581     -1.203171\n",
       "V12         0.293438     1.564246     0.659201     0.737483      1.029577\n",
       "V13        -0.941386     0.574074     0.805173     0.592994      1.439310\n",
       "V14         0.549020     0.627719     0.616874     0.559535      0.241454\n",
       "V15         1.804879     0.706121     3.069025    -0.697664      0.153008\n",
       "V16         0.215598     0.789188    -0.577514    -0.030669      0.224538\n",
       "V17         0.512307     0.403810     0.886526     0.242629      0.366466\n",
       "V18         0.333644     0.201799     0.239442     2.178616      0.291782\n",
       "V19         0.124270    -0.340687    -2.366079    -1.345060      0.445317\n",
       "V20         0.091202    -0.233984     0.361652    -0.378223      0.247237\n",
       "V21        -0.110552    -0.194936    -0.005020    -0.146927     -0.106984\n",
       "V22         0.217606    -0.605761     0.702906    -0.038212      0.729727\n",
       "V23        -0.134794     0.079469     0.945045    -0.214048     -0.161666\n",
       "V24         0.165959    -0.577395    -1.154666    -1.893131      0.312561\n",
       "V25         0.126280     0.190090    -0.605564     1.003963     -0.414116\n",
       "V26        -0.434824     0.296503    -0.312895    -0.515950      1.071126\n",
       "V27        -0.081230    -0.248052    -0.300258    -0.165316      0.023712\n",
       "V28        -0.151045    -0.064512    -0.244718     0.048424      0.419117\n",
       "Amount  17982.100000  6531.370000  2513.540000  5384.440000  14278.970000\n",
       "Class       0.000000     0.000000     0.000000     0.000000      0.000000"
      ]
     },
     "execution_count": 165,
     "metadata": {},
     "output_type": "execute_result"
    }
   ],
   "source": [
    "df = pd.read_csv('creditcard_2023.csv')\n",
    "df.head().T"
   ]
  },
  {
   "cell_type": "code",
   "execution_count": 166,
   "metadata": {},
   "outputs": [
    {
     "data": {
      "text/plain": [
       "Index([], dtype='object')"
      ]
     },
     "execution_count": 166,
     "metadata": {},
     "output_type": "execute_result"
    }
   ],
   "source": [
    "df.select_dtypes(exclude=['number']).columns"
   ]
  },
  {
   "cell_type": "code",
   "execution_count": 167,
   "metadata": {},
   "outputs": [],
   "source": [
    "df.columns = df.columns.str.lower()\n",
    "df = df.drop('id', axis = 1)"
   ]
  },
  {
   "cell_type": "code",
   "execution_count": 168,
   "metadata": {},
   "outputs": [
    {
     "data": {
      "text/plain": [
       "Index(['v1', 'v2', 'v3', 'v4', 'v5', 'v6', 'v7', 'v8', 'v9', 'v10', 'v11',\n",
       "       'v12', 'v13', 'v14', 'v15', 'v16', 'v17', 'v18', 'v19', 'v20', 'v21',\n",
       "       'v22', 'v23', 'v24', 'v25', 'v26', 'v27', 'v28', 'amount', 'is_fraud'],\n",
       "      dtype='object')"
      ]
     },
     "execution_count": 168,
     "metadata": {},
     "output_type": "execute_result"
    }
   ],
   "source": [
    "df = df.rename(columns={'class': 'is_fraud'})\n",
    "df.columns"
   ]
  },
  {
   "cell_type": "markdown",
   "metadata": {},
   "source": [
    "# Exploratory data analysis"
   ]
  },
  {
   "cell_type": "code",
   "execution_count": 169,
   "metadata": {},
   "outputs": [
    {
     "data": {
      "text/plain": [
       "Index([], dtype='object')"
      ]
     },
     "execution_count": 169,
     "metadata": {},
     "output_type": "execute_result"
    }
   ],
   "source": [
    "columns_null_sum = df.isnull().sum()\n",
    "columns_null_sum[columns_null_sum > 0].index"
   ]
  },
  {
   "cell_type": "code",
   "execution_count": 170,
   "metadata": {},
   "outputs": [
    {
     "data": {
      "text/plain": [
       "is_fraud\n",
       "0    284315\n",
       "1    284315\n",
       "Name: count, dtype: int64"
      ]
     },
     "execution_count": 170,
     "metadata": {},
     "output_type": "execute_result"
    }
   ],
   "source": [
    "df.is_fraud.value_counts()"
   ]
  },
  {
   "cell_type": "code",
   "execution_count": 171,
   "metadata": {},
   "outputs": [
    {
     "data": {
      "text/plain": [
       "0.5"
      ]
     },
     "execution_count": 171,
     "metadata": {},
     "output_type": "execute_result"
    }
   ],
   "source": [
    "global_mean = df.is_fraud.mean()\n",
    "round(global_mean, 3)"
   ]
  },
  {
   "cell_type": "markdown",
   "metadata": {},
   "source": [
    "# Splitting the data"
   ]
  },
  {
   "cell_type": "code",
   "execution_count": 172,
   "metadata": {},
   "outputs": [
    {
     "data": {
      "text/plain": [
       "(568630, 454904, 80.0, 113726, 20.0)"
      ]
     },
     "execution_count": 172,
     "metadata": {},
     "output_type": "execute_result"
    }
   ],
   "source": [
    "from sklearn.model_selection import train_test_split\n",
    "\n",
    "df_train_full, df_test = train_test_split(df, test_size=0.2, random_state=11)\n",
    "len(df), len(df_train_full), (len(df_train_full)/len(df))*100, len(df_test), (len(df_test)/len(df))*100"
   ]
  },
  {
   "cell_type": "code",
   "execution_count": 173,
   "metadata": {},
   "outputs": [
    {
     "data": {
      "text/plain": [
       "(568630, 341178, 60.0, 113726, 20.0, 113726, 20.0)"
      ]
     },
     "execution_count": 173,
     "metadata": {},
     "output_type": "execute_result"
    }
   ],
   "source": [
    "df_train, df_val = train_test_split(df_train_full, test_size=0.25, random_state=11)\n",
    "len(df), len(df_train), (len(df_train)/len(df))*100, len(df_val), (len(df_val)/len(df))*100, len(df_test), (len(df_test)/len(df))*100"
   ]
  },
  {
   "cell_type": "code",
   "execution_count": 174,
   "metadata": {},
   "outputs": [],
   "source": [
    "y_train = df_train.is_fraud.values\n",
    "y_val = df_val.is_fraud.values"
   ]
  },
  {
   "cell_type": "code",
   "execution_count": 175,
   "metadata": {},
   "outputs": [],
   "source": [
    "del df_train['is_fraud']\n",
    "del df_val['is_fraud']"
   ]
  },
  {
   "cell_type": "markdown",
   "metadata": {},
   "source": [
    "# Correlation"
   ]
  },
  {
   "cell_type": "code",
   "execution_count": 176,
   "metadata": {},
   "outputs": [],
   "source": [
    "correlation_matrix = df_train_full.corrwith(df_train_full.is_fraud).to_frame('correlation')"
   ]
  },
  {
   "cell_type": "code",
   "execution_count": 177,
   "metadata": {},
   "outputs": [
    {
     "data": {
      "image/png": "[encoded data removed]",
      "text/plain": [
       "<Figure size 1000x800 with 2 Axes>"
      ]
     },
     "metadata": {},
     "output_type": "display_data"
    }
   ],
   "source": [
    "import pandas as pd\n",
    "import seaborn as sns\n",
    "import matplotlib.pyplot as plt\n",
    "\n",
    "plt.figure(figsize=(10, 8))\n",
    "sns.heatmap(correlation_matrix, annot=True, cmap='coolwarm')\n",
    "plt.title('Is Fraud Correlation Matrix')\n",
    "plt.show()"
   ]
  },
  {
   "cell_type": "markdown",
   "metadata": {},
   "source": [
    "# Mean"
   ]
  },
  {
   "cell_type": "code",
   "execution_count": 178,
   "metadata": {},
   "outputs": [
    {
     "data": {
      "text/html": [
       "<div>\n",
       "<style scoped>\n",
       "    .dataframe tbody tr th:only-of-type {\n",
       "        vertical-align: middle;\n",
       "    }\n",
       "\n",
       "    .dataframe tbody tr th {\n",
       "        vertical-align: top;\n",
       "    }\n",
       "\n",
       "    .dataframe thead th {\n",
       "        text-align: right;\n",
       "    }\n",
       "</style>\n",
       "<table border=\"1\" class=\"dataframe\">\n",
       "  <thead>\n",
       "    <tr style=\"text-align: right;\">\n",
       "      <th></th>\n",
       "      <th>v1</th>\n",
       "      <th>v2</th>\n",
       "      <th>v3</th>\n",
       "      <th>v4</th>\n",
       "      <th>v5</th>\n",
       "      <th>v6</th>\n",
       "      <th>v7</th>\n",
       "      <th>v8</th>\n",
       "      <th>v9</th>\n",
       "      <th>v10</th>\n",
       "      <th>...</th>\n",
       "      <th>v20</th>\n",
       "      <th>v21</th>\n",
       "      <th>v22</th>\n",
       "      <th>v23</th>\n",
       "      <th>v24</th>\n",
       "      <th>v25</th>\n",
       "      <th>v26</th>\n",
       "      <th>v27</th>\n",
       "      <th>v28</th>\n",
       "      <th>amount</th>\n",
       "    </tr>\n",
       "    <tr>\n",
       "      <th>is_fraud</th>\n",
       "      <th></th>\n",
       "      <th></th>\n",
       "      <th></th>\n",
       "      <th></th>\n",
       "      <th></th>\n",
       "      <th></th>\n",
       "      <th></th>\n",
       "      <th></th>\n",
       "      <th></th>\n",
       "      <th></th>\n",
       "      <th></th>\n",
       "      <th></th>\n",
       "      <th></th>\n",
       "      <th></th>\n",
       "      <th></th>\n",
       "      <th></th>\n",
       "      <th></th>\n",
       "      <th></th>\n",
       "      <th></th>\n",
       "      <th></th>\n",
       "      <th></th>\n",
       "    </tr>\n",
       "  </thead>\n",
       "  <tbody>\n",
       "    <tr>\n",
       "      <th>0</th>\n",
       "      <td>0.506493</td>\n",
       "      <td>-0.492997</td>\n",
       "      <td>0.681480</td>\n",
       "      <td>-0.735697</td>\n",
       "      <td>0.339280</td>\n",
       "      <td>0.435029</td>\n",
       "      <td>0.491584</td>\n",
       "      <td>-0.144495</td>\n",
       "      <td>0.584940</td>\n",
       "      <td>0.673829</td>\n",
       "      <td>...</td>\n",
       "      <td>-0.179735</td>\n",
       "      <td>-0.109516</td>\n",
       "      <td>-0.014585</td>\n",
       "      <td>-0.010171</td>\n",
       "      <td>0.130881</td>\n",
       "      <td>-0.060797</td>\n",
       "      <td>-0.069856</td>\n",
       "      <td>-0.213475</td>\n",
       "      <td>-0.101990</td>\n",
       "      <td>12028.534067</td>\n",
       "    </tr>\n",
       "    <tr>\n",
       "      <th>1</th>\n",
       "      <td>-0.505029</td>\n",
       "      <td>0.491747</td>\n",
       "      <td>-0.682051</td>\n",
       "      <td>0.735775</td>\n",
       "      <td>-0.337225</td>\n",
       "      <td>-0.434356</td>\n",
       "      <td>-0.490558</td>\n",
       "      <td>0.142849</td>\n",
       "      <td>-0.585477</td>\n",
       "      <td>-0.673602</td>\n",
       "      <td>...</td>\n",
       "      <td>0.178042</td>\n",
       "      <td>0.109863</td>\n",
       "      <td>0.014028</td>\n",
       "      <td>0.010105</td>\n",
       "      <td>-0.131115</td>\n",
       "      <td>0.061252</td>\n",
       "      <td>0.069673</td>\n",
       "      <td>0.212512</td>\n",
       "      <td>0.101941</td>\n",
       "      <td>12058.261051</td>\n",
       "    </tr>\n",
       "  </tbody>\n",
       "</table>\n",
       "<p>2 rows × 29 columns</p>\n",
       "</div>"
      ],
      "text/plain": [
       "                v1        v2        v3        v4        v5        v6  \\\n",
       "is_fraud                                                               \n",
       "0         0.506493 -0.492997  0.681480 -0.735697  0.339280  0.435029   \n",
       "1        -0.505029  0.491747 -0.682051  0.735775 -0.337225 -0.434356   \n",
       "\n",
       "                v7        v8        v9       v10  ...       v20       v21  \\\n",
       "is_fraud                                          ...                       \n",
       "0         0.491584 -0.144495  0.584940  0.673829  ... -0.179735 -0.109516   \n",
       "1        -0.490558  0.142849 -0.585477 -0.673602  ...  0.178042  0.109863   \n",
       "\n",
       "               v22       v23       v24       v25       v26       v27  \\\n",
       "is_fraud                                                               \n",
       "0        -0.014585 -0.010171  0.130881 -0.060797 -0.069856 -0.213475   \n",
       "1         0.014028  0.010105 -0.131115  0.061252  0.069673  0.212512   \n",
       "\n",
       "               v28        amount  \n",
       "is_fraud                          \n",
       "0        -0.101990  12028.534067  \n",
       "1         0.101941  12058.261051  \n",
       "\n",
       "[2 rows x 29 columns]"
      ]
     },
     "execution_count": 178,
     "metadata": {},
     "output_type": "execute_result"
    }
   ],
   "source": [
    "mean = df_train_full.groupby(by='is_fraud').mean()\n",
    "mean"
   ]
  },
  {
   "cell_type": "markdown",
   "metadata": {},
   "source": [
    "# One-hot encoding"
   ]
  },
  {
   "cell_type": "code",
   "execution_count": 179,
   "metadata": {},
   "outputs": [
    {
     "data": {
      "text/plain": [
       "{'v1': 1.3403492111079265,\n",
       " 'v2': -0.2040077349430241,\n",
       " 'v3': 0.4698086882933029,\n",
       " 'v4': 0.5951459204165094,\n",
       " 'v5': 0.3598243185358687,\n",
       " 'v6': 0.3901674673239657,\n",
       " 'v7': 0.4254980072260002,\n",
       " 'v8': -0.1766865607080249,\n",
       " 'v9': 0.926226959846178,\n",
       " 'v10': 0.7866131518486817,\n",
       " 'v11': -0.5059766730447682,\n",
       " 'v12': -0.3399202871372723,\n",
       " 'v13': 1.5709792523020525,\n",
       " 'v14': 1.2461566307074206,\n",
       " 'v15': -1.3010873884093146,\n",
       " 'v16': 0.966410210493975,\n",
       " 'v17': 0.7673550047002093,\n",
       " 'v18': 0.2357896336349743,\n",
       " 'v19': -1.7262871190047528,\n",
       " 'v20': -0.467981359932954,\n",
       " 'v21': -0.214614899133819,\n",
       " 'v22': -0.4307775552526642,\n",
       " 'v23': 0.1431099735733737,\n",
       " 'v24': -0.0817861866438306,\n",
       " 'v25': 0.0104500391522079,\n",
       " 'v26': -0.2802390531651622,\n",
       " 'v27': -0.2660599196699356,\n",
       " 'v28': -0.1218035905730519,\n",
       " 'amount': 11363.35}"
      ]
     },
     "execution_count": 179,
     "metadata": {},
     "output_type": "execute_result"
    }
   ],
   "source": [
    "from sklearn.feature_extraction import DictVectorizer\n",
    "train_dict = df_train.to_dict(orient='records')\n",
    "train_dict[0]"
   ]
  },
  {
   "cell_type": "code",
   "execution_count": 180,
   "metadata": {},
   "outputs": [
    {
     "data": {
      "text/html": [
       "<style>#sk-container-id-5 {color: black;}#sk-container-id-5 pre{padding: 0;}#sk-container-id-5 div.sk-toggleable {background-color: white;}#sk-container-id-5 label.sk-toggleable__label {cursor: pointer;display: block;width: 100%;margin-bottom: 0;padding: 0.3em;box-sizing: border-box;text-align: center;}#sk-container-id-5 label.sk-toggleable__label-arrow:before {content: \"▸\";float: left;margin-right: 0.25em;color: #696969;}#sk-container-id-5 label.sk-toggleable__label-arrow:hover:before {color: black;}#sk-container-id-5 div.sk-estimator:hover label.sk-toggleable__label-arrow:before {color: black;}#sk-container-id-5 div.sk-toggleable__content {max-height: 0;max-width: 0;overflow: hidden;text-align: left;background-color: #f0f8ff;}#sk-container-id-5 div.sk-toggleable__content pre {margin: 0.2em;color: black;border-radius: 0.25em;background-color: #f0f8ff;}#sk-container-id-5 input.sk-toggleable__control:checked~div.sk-toggleable__content {max-height: 200px;max-width: 100%;overflow: auto;}#sk-container-id-5 input.sk-toggleable__control:checked~label.sk-toggleable__label-arrow:before {content: \"▾\";}#sk-container-id-5 div.sk-estimator input.sk-toggleable__control:checked~label.sk-toggleable__label {background-color: #d4ebff;}#sk-container-id-5 div.sk-label input.sk-toggleable__control:checked~label.sk-toggleable__label {background-color: #d4ebff;}#sk-container-id-5 input.sk-hidden--visually {border: 0;clip: rect(1px 1px 1px 1px);clip: rect(1px, 1px, 1px, 1px);height: 1px;margin: -1px;overflow: hidden;padding: 0;position: absolute;width: 1px;}#sk-container-id-5 div.sk-estimator {font-family: monospace;background-color: #f0f8ff;border: 1px dotted black;border-radius: 0.25em;box-sizing: border-box;margin-bottom: 0.5em;}#sk-container-id-5 div.sk-estimator:hover {background-color: #d4ebff;}#sk-container-id-5 div.sk-parallel-item::after {content: \"\";width: 100%;border-bottom: 1px solid gray;flex-grow: 1;}#sk-container-id-5 div.sk-label:hover label.sk-toggleable__label {background-color: #d4ebff;}#sk-container-id-5 div.sk-serial::before {content: \"\";position: absolute;border-left: 1px solid gray;box-sizing: border-box;top: 0;bottom: 0;left: 50%;z-index: 0;}#sk-container-id-5 div.sk-serial {display: flex;flex-direction: column;align-items: center;background-color: white;padding-right: 0.2em;padding-left: 0.2em;position: relative;}#sk-container-id-5 div.sk-item {position: relative;z-index: 1;}#sk-container-id-5 div.sk-parallel {display: flex;align-items: stretch;justify-content: center;background-color: white;position: relative;}#sk-container-id-5 div.sk-item::before, #sk-container-id-5 div.sk-parallel-item::before {content: \"\";position: absolute;border-left: 1px solid gray;box-sizing: border-box;top: 0;bottom: 0;left: 50%;z-index: -1;}#sk-container-id-5 div.sk-parallel-item {display: flex;flex-direction: column;z-index: 1;position: relative;background-color: white;}#sk-container-id-5 div.sk-parallel-item:first-child::after {align-self: flex-end;width: 50%;}#sk-container-id-5 div.sk-parallel-item:last-child::after {align-self: flex-start;width: 50%;}#sk-container-id-5 div.sk-parallel-item:only-child::after {width: 0;}#sk-container-id-5 div.sk-dashed-wrapped {border: 1px dashed gray;margin: 0 0.4em 0.5em 0.4em;box-sizing: border-box;padding-bottom: 0.4em;background-color: white;}#sk-container-id-5 div.sk-label label {font-family: monospace;font-weight: bold;display: inline-block;line-height: 1.2em;}#sk-container-id-5 div.sk-label-container {text-align: center;}#sk-container-id-5 div.sk-container {/* jupyter's `normalize.less` sets `[hidden] { display: none; }` but bootstrap.min.css set `[hidden] { display: none !important; }` so we also need the `!important` here to be able to override the default hidden behavior on the sphinx rendered scikit-learn.org. See: https://github.com/scikit-learn/scikit-learn/issues/21755 */display: inline-block !important;position: relative;}#sk-container-id-5 div.sk-text-repr-fallback {display: none;}</style><div id=\"sk-container-id-5\" class=\"sk-top-container\"><div class=\"sk-text-repr-fallback\"><pre>DictVectorizer(sparse=False)</pre><b>In a Jupyter environment, please rerun this cell to show the HTML representation or trust the notebook. <br />On GitHub, the HTML representation is unable to render, please try loading this page with nbviewer.org.</b></div><div class=\"sk-container\" hidden><div class=\"sk-item\"><div class=\"sk-estimator sk-toggleable\"><input class=\"sk-toggleable__control sk-hidden--visually\" id=\"sk-estimator-id-5\" type=\"checkbox\" checked><label for=\"sk-estimator-id-5\" class=\"sk-toggleable__label sk-toggleable__label-arrow\">DictVectorizer</label><div class=\"sk-toggleable__content\"><pre>DictVectorizer(sparse=False)</pre></div></div></div></div></div>"
      ],
      "text/plain": [
       "DictVectorizer(sparse=False)"
      ]
     },
     "execution_count": 180,
     "metadata": {},
     "output_type": "execute_result"
    }
   ],
   "source": [
    "dv = DictVectorizer(sparse=False)\n",
    "dv.fit(train_dict)"
   ]
  },
  {
   "cell_type": "code",
   "execution_count": 181,
   "metadata": {},
   "outputs": [],
   "source": [
    "X_train = dv.transform(train_dict)"
   ]
  },
  {
   "cell_type": "code",
   "execution_count": 182,
   "metadata": {},
   "outputs": [
    {
     "data": {
      "text/plain": [
       "(341178, 29)"
      ]
     },
     "execution_count": 182,
     "metadata": {},
     "output_type": "execute_result"
    }
   ],
   "source": [
    "X_train.shape"
   ]
  },
  {
   "cell_type": "code",
   "execution_count": 183,
   "metadata": {},
   "outputs": [
    {
     "data": {
      "text/plain": [
       "array(['amount', 'v1', 'v10', 'v11', 'v12', 'v13', 'v14', 'v15', 'v16',\n",
       "       'v17', 'v18', 'v19', 'v2', 'v20', 'v21', 'v22', 'v23', 'v24',\n",
       "       'v25', 'v26', 'v27', 'v28', 'v3', 'v4', 'v5', 'v6', 'v7', 'v8',\n",
       "       'v9'], dtype=object)"
      ]
     },
     "execution_count": 183,
     "metadata": {},
     "output_type": "execute_result"
    }
   ],
   "source": [
    "dv.get_feature_names_out()"
   ]
  },
  {
   "cell_type": "markdown",
   "metadata": {},
   "source": [
    "## Training logistic regression"
   ]
  },
  {
   "cell_type": "code",
   "execution_count": 184,
   "metadata": {},
   "outputs": [
    {
     "data": {
      "text/html": [
       "<style>#sk-container-id-6 {color: black;}#sk-container-id-6 pre{padding: 0;}#sk-container-id-6 div.sk-toggleable {background-color: white;}#sk-container-id-6 label.sk-toggleable__label {cursor: pointer;display: block;width: 100%;margin-bottom: 0;padding: 0.3em;box-sizing: border-box;text-align: center;}#sk-container-id-6 label.sk-toggleable__label-arrow:before {content: \"▸\";float: left;margin-right: 0.25em;color: #696969;}#sk-container-id-6 label.sk-toggleable__label-arrow:hover:before {color: black;}#sk-container-id-6 div.sk-estimator:hover label.sk-toggleable__label-arrow:before {color: black;}#sk-container-id-6 div.sk-toggleable__content {max-height: 0;max-width: 0;overflow: hidden;text-align: left;background-color: #f0f8ff;}#sk-container-id-6 div.sk-toggleable__content pre {margin: 0.2em;color: black;border-radius: 0.25em;background-color: #f0f8ff;}#sk-container-id-6 input.sk-toggleable__control:checked~div.sk-toggleable__content {max-height: 200px;max-width: 100%;overflow: auto;}#sk-container-id-6 input.sk-toggleable__control:checked~label.sk-toggleable__label-arrow:before {content: \"▾\";}#sk-container-id-6 div.sk-estimator input.sk-toggleable__control:checked~label.sk-toggleable__label {background-color: #d4ebff;}#sk-container-id-6 div.sk-label input.sk-toggleable__control:checked~label.sk-toggleable__label {background-color: #d4ebff;}#sk-container-id-6 input.sk-hidden--visually {border: 0;clip: rect(1px 1px 1px 1px);clip: rect(1px, 1px, 1px, 1px);height: 1px;margin: -1px;overflow: hidden;padding: 0;position: absolute;width: 1px;}#sk-container-id-6 div.sk-estimator {font-family: monospace;background-color: #f0f8ff;border: 1px dotted black;border-radius: 0.25em;box-sizing: border-box;margin-bottom: 0.5em;}#sk-container-id-6 div.sk-estimator:hover {background-color: #d4ebff;}#sk-container-id-6 div.sk-parallel-item::after {content: \"\";width: 100%;border-bottom: 1px solid gray;flex-grow: 1;}#sk-container-id-6 div.sk-label:hover label.sk-toggleable__label {background-color: #d4ebff;}#sk-container-id-6 div.sk-serial::before {content: \"\";position: absolute;border-left: 1px solid gray;box-sizing: border-box;top: 0;bottom: 0;left: 50%;z-index: 0;}#sk-container-id-6 div.sk-serial {display: flex;flex-direction: column;align-items: center;background-color: white;padding-right: 0.2em;padding-left: 0.2em;position: relative;}#sk-container-id-6 div.sk-item {position: relative;z-index: 1;}#sk-container-id-6 div.sk-parallel {display: flex;align-items: stretch;justify-content: center;background-color: white;position: relative;}#sk-container-id-6 div.sk-item::before, #sk-container-id-6 div.sk-parallel-item::before {content: \"\";position: absolute;border-left: 1px solid gray;box-sizing: border-box;top: 0;bottom: 0;left: 50%;z-index: -1;}#sk-container-id-6 div.sk-parallel-item {display: flex;flex-direction: column;z-index: 1;position: relative;background-color: white;}#sk-container-id-6 div.sk-parallel-item:first-child::after {align-self: flex-end;width: 50%;}#sk-container-id-6 div.sk-parallel-item:last-child::after {align-self: flex-start;width: 50%;}#sk-container-id-6 div.sk-parallel-item:only-child::after {width: 0;}#sk-container-id-6 div.sk-dashed-wrapped {border: 1px dashed gray;margin: 0 0.4em 0.5em 0.4em;box-sizing: border-box;padding-bottom: 0.4em;background-color: white;}#sk-container-id-6 div.sk-label label {font-family: monospace;font-weight: bold;display: inline-block;line-height: 1.2em;}#sk-container-id-6 div.sk-label-container {text-align: center;}#sk-container-id-6 div.sk-container {/* jupyter's `normalize.less` sets `[hidden] { display: none; }` but bootstrap.min.css set `[hidden] { display: none !important; }` so we also need the `!important` here to be able to override the default hidden behavior on the sphinx rendered scikit-learn.org. See: https://github.com/scikit-learn/scikit-learn/issues/21755 */display: inline-block !important;position: relative;}#sk-container-id-6 div.sk-text-repr-fallback {display: none;}</style><div id=\"sk-container-id-6\" class=\"sk-top-container\"><div class=\"sk-text-repr-fallback\"><pre>LogisticRegression(random_state=1, solver=&#x27;liblinear&#x27;)</pre><b>In a Jupyter environment, please rerun this cell to show the HTML representation or trust the notebook. <br />On GitHub, the HTML representation is unable to render, please try loading this page with nbviewer.org.</b></div><div class=\"sk-container\" hidden><div class=\"sk-item\"><div class=\"sk-estimator sk-toggleable\"><input class=\"sk-toggleable__control sk-hidden--visually\" id=\"sk-estimator-id-6\" type=\"checkbox\" checked><label for=\"sk-estimator-id-6\" class=\"sk-toggleable__label sk-toggleable__label-arrow\">LogisticRegression</label><div class=\"sk-toggleable__content\"><pre>LogisticRegression(random_state=1, solver=&#x27;liblinear&#x27;)</pre></div></div></div></div></div>"
      ],
      "text/plain": [
       "LogisticRegression(random_state=1, solver='liblinear')"
      ]
     },
     "execution_count": 184,
     "metadata": {},
     "output_type": "execute_result"
    }
   ],
   "source": [
    "from sklearn.linear_model import LogisticRegression\n",
    "\n",
    "model = LogisticRegression(solver='liblinear', random_state=1)\n",
    "model.fit(X_train, y_train)"
   ]
  },
  {
   "cell_type": "code",
   "execution_count": 185,
   "metadata": {},
   "outputs": [],
   "source": [
    "val_dict = df_val.to_dict(orient='records')\n",
    "X_val = dv.transform(val_dict)"
   ]
  },
  {
   "cell_type": "code",
   "execution_count": 186,
   "metadata": {},
   "outputs": [
    {
     "data": {
      "text/plain": [
       "array([[0.07119128, 0.92880872],\n",
       "       [0.        , 1.        ],\n",
       "       [0.80717658, 0.19282342],\n",
       "       ...,\n",
       "       [0.00000008, 0.99999992],\n",
       "       [0.99952283, 0.00047717],\n",
       "       [0.        , 1.        ]])"
      ]
     },
     "execution_count": 186,
     "metadata": {},
     "output_type": "execute_result"
    }
   ],
   "source": [
    "np.set_printoptions(suppress=True)\n",
    "model.predict_proba(X_val)"
   ]
  },
  {
   "cell_type": "code",
   "execution_count": 187,
   "metadata": {},
   "outputs": [],
   "source": [
    "y_pred = model.predict_proba(X_val)[:, 1]"
   ]
  },
  {
   "cell_type": "code",
   "execution_count": 188,
   "metadata": {},
   "outputs": [
    {
     "data": {
      "text/plain": [
       "(113726, 54954)"
      ]
     },
     "execution_count": 188,
     "metadata": {},
     "output_type": "execute_result"
    }
   ],
   "source": [
    "len(y_pred), len(y_pred[y_pred > 0.5])"
   ]
  },
  {
   "cell_type": "code",
   "execution_count": 189,
   "metadata": {},
   "outputs": [],
   "source": [
    "is_fraud = y_pred > 0.5"
   ]
  },
  {
   "cell_type": "code",
   "execution_count": 190,
   "metadata": {},
   "outputs": [
    {
     "data": {
      "text/plain": [
       "0.9646958479151645"
      ]
     },
     "execution_count": 190,
     "metadata": {},
     "output_type": "execute_result"
    }
   ],
   "source": [
    "(y_val == is_fraud).mean()"
   ]
  },
  {
   "cell_type": "markdown",
   "metadata": {},
   "source": [
    "## Model interpretation"
   ]
  },
  {
   "cell_type": "code",
   "execution_count": 191,
   "metadata": {},
   "outputs": [
    {
     "data": {
      "text/plain": [
       "8.644528395563498"
      ]
     },
     "execution_count": 191,
     "metadata": {},
     "output_type": "execute_result"
    }
   ],
   "source": [
    "model.intercept_[0]"
   ]
  },
  {
   "cell_type": "code",
   "execution_count": 192,
   "metadata": {},
   "outputs": [
    {
     "data": {
      "text/plain": [
       "array([[0.07119128, 0.92880872],\n",
       "       [0.        , 1.        ],\n",
       "       [0.80717658, 0.19282342],\n",
       "       ...,\n",
       "       [0.00000008, 0.99999992],\n",
       "       [0.99952283, 0.00047717],\n",
       "       [0.        , 1.        ]])"
      ]
     },
     "execution_count": 192,
     "metadata": {},
     "output_type": "execute_result"
    }
   ],
   "source": [
    "np.set_printoptions(suppress=True)\n",
    "model.predict_proba(X_val)"
   ]
  },
  {
   "cell_type": "code",
   "execution_count": 193,
   "metadata": {},
   "outputs": [
    {
     "data": {
      "text/plain": [
       "{'amount': -0.0,\n",
       " 'v1': -0.641,\n",
       " 'v10': -1.815,\n",
       " 'v11': 1.825,\n",
       " 'v12': -2.733,\n",
       " 'v13': 0.015,\n",
       " 'v14': -3.266,\n",
       " 'v15': -0.243,\n",
       " 'v16': -0.838,\n",
       " 'v17': -1.822,\n",
       " 'v18': -0.9,\n",
       " 'v19': -0.099,\n",
       " 'v2': 0.139,\n",
       " 'v20': 0.124,\n",
       " 'v21': 0.26,\n",
       " 'v22': 0.428,\n",
       " 'v23': -0.323,\n",
       " 'v24': -0.167,\n",
       " 'v25': 0.153,\n",
       " 'v26': -0.106,\n",
       " 'v27': 0.189,\n",
       " 'v28': 0.157,\n",
       " 'v3': -1.119,\n",
       " 'v4': 3.521,\n",
       " 'v5': -0.01,\n",
       " 'v6': -0.469,\n",
       " 'v7': -1.022,\n",
       " 'v8': -2.794,\n",
       " 'v9': -0.461}"
      ]
     },
     "execution_count": 193,
     "metadata": {},
     "output_type": "execute_result"
    }
   ],
   "source": [
    "dict(zip(dv.get_feature_names_out(), model.coef_[0].round(3)))"
   ]
  },
  {
   "cell_type": "markdown",
   "metadata": {},
   "source": [
    "## Small model with greater correlation and correlation indexes values for features"
   ]
  },
  {
   "cell_type": "code",
   "execution_count": 194,
   "metadata": {},
   "outputs": [
    {
     "data": {
      "text/html": [
       "<div>\n",
       "<style scoped>\n",
       "    .dataframe tbody tr th:only-of-type {\n",
       "        vertical-align: middle;\n",
       "    }\n",
       "\n",
       "    .dataframe tbody tr th {\n",
       "        vertical-align: top;\n",
       "    }\n",
       "\n",
       "    .dataframe thead th {\n",
       "        text-align: right;\n",
       "    }\n",
       "</style>\n",
       "<table border=\"1\" class=\"dataframe\">\n",
       "  <thead>\n",
       "    <tr style=\"text-align: right;\">\n",
       "      <th></th>\n",
       "      <th>correlation</th>\n",
       "    </tr>\n",
       "  </thead>\n",
       "  <tbody>\n",
       "    <tr>\n",
       "      <th>amount</th>\n",
       "      <td>0.002147</td>\n",
       "    </tr>\n",
       "    <tr>\n",
       "      <th>v23</th>\n",
       "      <td>0.010115</td>\n",
       "    </tr>\n",
       "    <tr>\n",
       "      <th>v22</th>\n",
       "      <td>0.014323</td>\n",
       "    </tr>\n",
       "    <tr>\n",
       "      <th>v25</th>\n",
       "      <td>0.061033</td>\n",
       "    </tr>\n",
       "    <tr>\n",
       "      <th>v26</th>\n",
       "      <td>0.069769</td>\n",
       "    </tr>\n",
       "    <tr>\n",
       "      <th>v28</th>\n",
       "      <td>0.101438</td>\n",
       "    </tr>\n",
       "    <tr>\n",
       "      <th>v21</th>\n",
       "      <td>0.109937</td>\n",
       "    </tr>\n",
       "    <tr>\n",
       "      <th>v8</th>\n",
       "      <td>0.144033</td>\n",
       "    </tr>\n",
       "    <tr>\n",
       "      <th>v20</th>\n",
       "      <td>0.178827</td>\n",
       "    </tr>\n",
       "    <tr>\n",
       "      <th>v27</th>\n",
       "      <td>0.212225</td>\n",
       "    </tr>\n",
       "    <tr>\n",
       "      <th>v19</th>\n",
       "      <td>0.242984</td>\n",
       "    </tr>\n",
       "    <tr>\n",
       "      <th>v2</th>\n",
       "      <td>0.491778</td>\n",
       "    </tr>\n",
       "    <tr>\n",
       "      <th>v11</th>\n",
       "      <td>0.724323</td>\n",
       "    </tr>\n",
       "    <tr>\n",
       "      <th>v4</th>\n",
       "      <td>0.735738</td>\n",
       "    </tr>\n",
       "    <tr>\n",
       "      <th>is_fraud</th>\n",
       "      <td>1.000000</td>\n",
       "    </tr>\n",
       "  </tbody>\n",
       "</table>\n",
       "</div>"
      ],
      "text/plain": [
       "          correlation\n",
       "amount       0.002147\n",
       "v23          0.010115\n",
       "v22          0.014323\n",
       "v25          0.061033\n",
       "v26          0.069769\n",
       "v28          0.101438\n",
       "v21          0.109937\n",
       "v8           0.144033\n",
       "v20          0.178827\n",
       "v27          0.212225\n",
       "v19          0.242984\n",
       "v2           0.491778\n",
       "v11          0.724323\n",
       "v4           0.735738\n",
       "is_fraud     1.000000"
      ]
     },
     "execution_count": 194,
     "metadata": {},
     "output_type": "execute_result"
    }
   ],
   "source": [
    "correlation_matrix = df_train_full.corrwith(df_train_full.is_fraud).to_frame('correlation')\n",
    "\n",
    "correlation_matrix = correlation_matrix[correlation_matrix['correlation'] > 0]\n",
    "correlation_matrix = correlation_matrix.sort_values(by='correlation', ascending=True)\n"
   ]
  },
  {
   "cell_type": "code",
   "execution_count": 195,
   "metadata": {},
   "outputs": [
    {
     "data": {
      "text/plain": [
       "{'v14': -3.266,\n",
       " 'v8': -2.794,\n",
       " 'v12': -2.733,\n",
       " 'v17': -1.822,\n",
       " 'v10': -1.815,\n",
       " 'v3': -1.119,\n",
       " 'v7': -1.022,\n",
       " 'v18': -0.9,\n",
       " 'v16': -0.838,\n",
       " 'v1': -0.641,\n",
       " 'v6': -0.469,\n",
       " 'v9': -0.461,\n",
       " 'v23': -0.323,\n",
       " 'v15': -0.243,\n",
       " 'v24': -0.167,\n",
       " 'v26': -0.106,\n",
       " 'v19': -0.099,\n",
       " 'v5': -0.01,\n",
       " 'amount': -0.0,\n",
       " 'v13': 0.015,\n",
       " 'v20': 0.124,\n",
       " 'v2': 0.139,\n",
       " 'v25': 0.153,\n",
       " 'v28': 0.157,\n",
       " 'v27': 0.189,\n",
       " 'v21': 0.26,\n",
       " 'v22': 0.428,\n",
       " 'v11': 1.825,\n",
       " 'v4': 3.521}"
      ]
     },
     "execution_count": 195,
     "metadata": {},
     "output_type": "execute_result"
    }
   ],
   "source": [
    "features_coef = dict(zip(dv.get_feature_names_out(), model.coef_[0].round(3)))\n",
    "sorted_items = sorted(features_coef.items(), key=lambda x: x[1])\n",
    "ordered_dict = dict(sorted_items)\n"
   ]
  },
  {
   "cell_type": "code",
   "execution_count": 196,
   "metadata": {},
   "outputs": [],
   "source": [
    "model_small_columns = ['v13', 'v20', 'v2', 'v25', 'v28', 'v27', 'v21', 'v22', 'v11', 'v4', 'v23', 'v26', 'v8', 'v19']\n",
    "small_df_train = df_train[model_small_columns]\n",
    "small_df_val = df_val[model_small_columns]\n"
   ]
  },
  {
   "cell_type": "code",
   "execution_count": 197,
   "metadata": {},
   "outputs": [
    {
     "data": {
      "text/plain": [
       "{'v13': 1.5709792523020525,\n",
       " 'v20': -0.467981359932954,\n",
       " 'v2': -0.2040077349430241,\n",
       " 'v25': 0.0104500391522079,\n",
       " 'v28': -0.1218035905730519,\n",
       " 'v27': -0.2660599196699356,\n",
       " 'v21': -0.214614899133819,\n",
       " 'v22': -0.4307775552526642,\n",
       " 'v11': -0.5059766730447682,\n",
       " 'v4': 0.5951459204165094,\n",
       " 'v23': 0.1431099735733737,\n",
       " 'v26': -0.2802390531651622,\n",
       " 'v8': -0.1766865607080249,\n",
       " 'v19': -1.7262871190047528}"
      ]
     },
     "execution_count": 197,
     "metadata": {},
     "output_type": "execute_result"
    }
   ],
   "source": [
    "small_train_dict = small_df_train.to_dict(orient='records')\n",
    "small_train_dict[0]"
   ]
  },
  {
   "cell_type": "code",
   "execution_count": 198,
   "metadata": {},
   "outputs": [
    {
     "data": {
      "text/html": [
       "<style>#sk-container-id-7 {color: black;}#sk-container-id-7 pre{padding: 0;}#sk-container-id-7 div.sk-toggleable {background-color: white;}#sk-container-id-7 label.sk-toggleable__label {cursor: pointer;display: block;width: 100%;margin-bottom: 0;padding: 0.3em;box-sizing: border-box;text-align: center;}#sk-container-id-7 label.sk-toggleable__label-arrow:before {content: \"▸\";float: left;margin-right: 0.25em;color: #696969;}#sk-container-id-7 label.sk-toggleable__label-arrow:hover:before {color: black;}#sk-container-id-7 div.sk-estimator:hover label.sk-toggleable__label-arrow:before {color: black;}#sk-container-id-7 div.sk-toggleable__content {max-height: 0;max-width: 0;overflow: hidden;text-align: left;background-color: #f0f8ff;}#sk-container-id-7 div.sk-toggleable__content pre {margin: 0.2em;color: black;border-radius: 0.25em;background-color: #f0f8ff;}#sk-container-id-7 input.sk-toggleable__control:checked~div.sk-toggleable__content {max-height: 200px;max-width: 100%;overflow: auto;}#sk-container-id-7 input.sk-toggleable__control:checked~label.sk-toggleable__label-arrow:before {content: \"▾\";}#sk-container-id-7 div.sk-estimator input.sk-toggleable__control:checked~label.sk-toggleable__label {background-color: #d4ebff;}#sk-container-id-7 div.sk-label input.sk-toggleable__control:checked~label.sk-toggleable__label {background-color: #d4ebff;}#sk-container-id-7 input.sk-hidden--visually {border: 0;clip: rect(1px 1px 1px 1px);clip: rect(1px, 1px, 1px, 1px);height: 1px;margin: -1px;overflow: hidden;padding: 0;position: absolute;width: 1px;}#sk-container-id-7 div.sk-estimator {font-family: monospace;background-color: #f0f8ff;border: 1px dotted black;border-radius: 0.25em;box-sizing: border-box;margin-bottom: 0.5em;}#sk-container-id-7 div.sk-estimator:hover {background-color: #d4ebff;}#sk-container-id-7 div.sk-parallel-item::after {content: \"\";width: 100%;border-bottom: 1px solid gray;flex-grow: 1;}#sk-container-id-7 div.sk-label:hover label.sk-toggleable__label {background-color: #d4ebff;}#sk-container-id-7 div.sk-serial::before {content: \"\";position: absolute;border-left: 1px solid gray;box-sizing: border-box;top: 0;bottom: 0;left: 50%;z-index: 0;}#sk-container-id-7 div.sk-serial {display: flex;flex-direction: column;align-items: center;background-color: white;padding-right: 0.2em;padding-left: 0.2em;position: relative;}#sk-container-id-7 div.sk-item {position: relative;z-index: 1;}#sk-container-id-7 div.sk-parallel {display: flex;align-items: stretch;justify-content: center;background-color: white;position: relative;}#sk-container-id-7 div.sk-item::before, #sk-container-id-7 div.sk-parallel-item::before {content: \"\";position: absolute;border-left: 1px solid gray;box-sizing: border-box;top: 0;bottom: 0;left: 50%;z-index: -1;}#sk-container-id-7 div.sk-parallel-item {display: flex;flex-direction: column;z-index: 1;position: relative;background-color: white;}#sk-container-id-7 div.sk-parallel-item:first-child::after {align-self: flex-end;width: 50%;}#sk-container-id-7 div.sk-parallel-item:last-child::after {align-self: flex-start;width: 50%;}#sk-container-id-7 div.sk-parallel-item:only-child::after {width: 0;}#sk-container-id-7 div.sk-dashed-wrapped {border: 1px dashed gray;margin: 0 0.4em 0.5em 0.4em;box-sizing: border-box;padding-bottom: 0.4em;background-color: white;}#sk-container-id-7 div.sk-label label {font-family: monospace;font-weight: bold;display: inline-block;line-height: 1.2em;}#sk-container-id-7 div.sk-label-container {text-align: center;}#sk-container-id-7 div.sk-container {/* jupyter's `normalize.less` sets `[hidden] { display: none; }` but bootstrap.min.css set `[hidden] { display: none !important; }` so we also need the `!important` here to be able to override the default hidden behavior on the sphinx rendered scikit-learn.org. See: https://github.com/scikit-learn/scikit-learn/issues/21755 */display: inline-block !important;position: relative;}#sk-container-id-7 div.sk-text-repr-fallback {display: none;}</style><div id=\"sk-container-id-7\" class=\"sk-top-container\"><div class=\"sk-text-repr-fallback\"><pre>DictVectorizer(sparse=False)</pre><b>In a Jupyter environment, please rerun this cell to show the HTML representation or trust the notebook. <br />On GitHub, the HTML representation is unable to render, please try loading this page with nbviewer.org.</b></div><div class=\"sk-container\" hidden><div class=\"sk-item\"><div class=\"sk-estimator sk-toggleable\"><input class=\"sk-toggleable__control sk-hidden--visually\" id=\"sk-estimator-id-7\" type=\"checkbox\" checked><label for=\"sk-estimator-id-7\" class=\"sk-toggleable__label sk-toggleable__label-arrow\">DictVectorizer</label><div class=\"sk-toggleable__content\"><pre>DictVectorizer(sparse=False)</pre></div></div></div></div></div>"
      ],
      "text/plain": [
       "DictVectorizer(sparse=False)"
      ]
     },
     "execution_count": 198,
     "metadata": {},
     "output_type": "execute_result"
    }
   ],
   "source": [
    "small_dv = DictVectorizer(sparse=False)\n",
    "small_dv.fit(small_train_dict)"
   ]
  },
  {
   "cell_type": "code",
   "execution_count": 199,
   "metadata": {},
   "outputs": [
    {
     "data": {
      "text/plain": [
       "(341178, 14)"
      ]
     },
     "execution_count": 199,
     "metadata": {},
     "output_type": "execute_result"
    }
   ],
   "source": [
    "X_small_train = small_dv.transform(small_train_dict)\n",
    "X_small_train.shape"
   ]
  },
  {
   "cell_type": "code",
   "execution_count": 200,
   "metadata": {},
   "outputs": [
    {
     "data": {
      "text/plain": [
       "array(['v11', 'v13', 'v19', 'v2', 'v20', 'v21', 'v22', 'v23', 'v25',\n",
       "       'v26', 'v27', 'v28', 'v4', 'v8'], dtype=object)"
      ]
     },
     "execution_count": 200,
     "metadata": {},
     "output_type": "execute_result"
    }
   ],
   "source": [
    "small_dv.get_feature_names_out()"
   ]
  },
  {
   "cell_type": "code",
   "execution_count": 201,
   "metadata": {},
   "outputs": [
    {
     "data": {
      "text/html": [
       "<style>#sk-container-id-8 {color: black;}#sk-container-id-8 pre{padding: 0;}#sk-container-id-8 div.sk-toggleable {background-color: white;}#sk-container-id-8 label.sk-toggleable__label {cursor: pointer;display: block;width: 100%;margin-bottom: 0;padding: 0.3em;box-sizing: border-box;text-align: center;}#sk-container-id-8 label.sk-toggleable__label-arrow:before {content: \"▸\";float: left;margin-right: 0.25em;color: #696969;}#sk-container-id-8 label.sk-toggleable__label-arrow:hover:before {color: black;}#sk-container-id-8 div.sk-estimator:hover label.sk-toggleable__label-arrow:before {color: black;}#sk-container-id-8 div.sk-toggleable__content {max-height: 0;max-width: 0;overflow: hidden;text-align: left;background-color: #f0f8ff;}#sk-container-id-8 div.sk-toggleable__content pre {margin: 0.2em;color: black;border-radius: 0.25em;background-color: #f0f8ff;}#sk-container-id-8 input.sk-toggleable__control:checked~div.sk-toggleable__content {max-height: 200px;max-width: 100%;overflow: auto;}#sk-container-id-8 input.sk-toggleable__control:checked~label.sk-toggleable__label-arrow:before {content: \"▾\";}#sk-container-id-8 div.sk-estimator input.sk-toggleable__control:checked~label.sk-toggleable__label {background-color: #d4ebff;}#sk-container-id-8 div.sk-label input.sk-toggleable__control:checked~label.sk-toggleable__label {background-color: #d4ebff;}#sk-container-id-8 input.sk-hidden--visually {border: 0;clip: rect(1px 1px 1px 1px);clip: rect(1px, 1px, 1px, 1px);height: 1px;margin: -1px;overflow: hidden;padding: 0;position: absolute;width: 1px;}#sk-container-id-8 div.sk-estimator {font-family: monospace;background-color: #f0f8ff;border: 1px dotted black;border-radius: 0.25em;box-sizing: border-box;margin-bottom: 0.5em;}#sk-container-id-8 div.sk-estimator:hover {background-color: #d4ebff;}#sk-container-id-8 div.sk-parallel-item::after {content: \"\";width: 100%;border-bottom: 1px solid gray;flex-grow: 1;}#sk-container-id-8 div.sk-label:hover label.sk-toggleable__label {background-color: #d4ebff;}#sk-container-id-8 div.sk-serial::before {content: \"\";position: absolute;border-left: 1px solid gray;box-sizing: border-box;top: 0;bottom: 0;left: 50%;z-index: 0;}#sk-container-id-8 div.sk-serial {display: flex;flex-direction: column;align-items: center;background-color: white;padding-right: 0.2em;padding-left: 0.2em;position: relative;}#sk-container-id-8 div.sk-item {position: relative;z-index: 1;}#sk-container-id-8 div.sk-parallel {display: flex;align-items: stretch;justify-content: center;background-color: white;position: relative;}#sk-container-id-8 div.sk-item::before, #sk-container-id-8 div.sk-parallel-item::before {content: \"\";position: absolute;border-left: 1px solid gray;box-sizing: border-box;top: 0;bottom: 0;left: 50%;z-index: -1;}#sk-container-id-8 div.sk-parallel-item {display: flex;flex-direction: column;z-index: 1;position: relative;background-color: white;}#sk-container-id-8 div.sk-parallel-item:first-child::after {align-self: flex-end;width: 50%;}#sk-container-id-8 div.sk-parallel-item:last-child::after {align-self: flex-start;width: 50%;}#sk-container-id-8 div.sk-parallel-item:only-child::after {width: 0;}#sk-container-id-8 div.sk-dashed-wrapped {border: 1px dashed gray;margin: 0 0.4em 0.5em 0.4em;box-sizing: border-box;padding-bottom: 0.4em;background-color: white;}#sk-container-id-8 div.sk-label label {font-family: monospace;font-weight: bold;display: inline-block;line-height: 1.2em;}#sk-container-id-8 div.sk-label-container {text-align: center;}#sk-container-id-8 div.sk-container {/* jupyter's `normalize.less` sets `[hidden] { display: none; }` but bootstrap.min.css set `[hidden] { display: none !important; }` so we also need the `!important` here to be able to override the default hidden behavior on the sphinx rendered scikit-learn.org. See: https://github.com/scikit-learn/scikit-learn/issues/21755 */display: inline-block !important;position: relative;}#sk-container-id-8 div.sk-text-repr-fallback {display: none;}</style><div id=\"sk-container-id-8\" class=\"sk-top-container\"><div class=\"sk-text-repr-fallback\"><pre>LogisticRegression(random_state=1, solver=&#x27;liblinear&#x27;)</pre><b>In a Jupyter environment, please rerun this cell to show the HTML representation or trust the notebook. <br />On GitHub, the HTML representation is unable to render, please try loading this page with nbviewer.org.</b></div><div class=\"sk-container\" hidden><div class=\"sk-item\"><div class=\"sk-estimator sk-toggleable\"><input class=\"sk-toggleable__control sk-hidden--visually\" id=\"sk-estimator-id-8\" type=\"checkbox\" checked><label for=\"sk-estimator-id-8\" class=\"sk-toggleable__label sk-toggleable__label-arrow\">LogisticRegression</label><div class=\"sk-toggleable__content\"><pre>LogisticRegression(random_state=1, solver=&#x27;liblinear&#x27;)</pre></div></div></div></div></div>"
      ],
      "text/plain": [
       "LogisticRegression(random_state=1, solver='liblinear')"
      ]
     },
     "execution_count": 201,
     "metadata": {},
     "output_type": "execute_result"
    }
   ],
   "source": [
    "small_model = LogisticRegression(solver='liblinear', random_state=1)\n",
    "small_model.fit(X_small_train, y_train)"
   ]
  },
  {
   "cell_type": "code",
   "execution_count": 202,
   "metadata": {},
   "outputs": [],
   "source": [
    "small_val_dict = small_df_val[model_small_columns].to_dict(orient='records')\n",
    "X_small_val = small_dv.transform(small_val_dict)\n"
   ]
  },
  {
   "cell_type": "code",
   "execution_count": 203,
   "metadata": {},
   "outputs": [
    {
     "data": {
      "text/plain": [
       "array([[0.27518486, 0.72481514],\n",
       "       [0.00634826, 0.99365174],\n",
       "       [0.98315511, 0.01684489],\n",
       "       ...,\n",
       "       [0.01101896, 0.98898104],\n",
       "       [0.99684363, 0.00315637],\n",
       "       [0.09842416, 0.90157584]])"
      ]
     },
     "execution_count": 203,
     "metadata": {},
     "output_type": "execute_result"
    }
   ],
   "source": [
    "small_model.predict_proba(X_small_val)"
   ]
  },
  {
   "cell_type": "code",
   "execution_count": 204,
   "metadata": {},
   "outputs": [
    {
     "data": {
      "text/plain": [
       "array([0.72481514, 0.99365174, 0.01684489, ..., 0.98898104, 0.00315637,\n",
       "       0.90157584])"
      ]
     },
     "execution_count": 204,
     "metadata": {},
     "output_type": "execute_result"
    }
   ],
   "source": [
    "y_small_pred = small_model.predict_proba(X_small_val)[:, 1]\n",
    "y_small_pred"
   ]
  },
  {
   "cell_type": "code",
   "execution_count": 205,
   "metadata": {},
   "outputs": [
    {
     "data": {
      "text/plain": [
       "0.9254524031443997"
      ]
     },
     "execution_count": 205,
     "metadata": {},
     "output_type": "execute_result"
    }
   ],
   "source": [
    "is_fraud = y_small_pred > 0.5\n",
    "(y_val == is_fraud).mean()"
   ]
  },
  {
   "cell_type": "markdown",
   "metadata": {},
   "source": [
    "## Using the model"
   ]
  },
  {
   "cell_type": "code",
   "execution_count": 209,
   "metadata": {},
   "outputs": [],
   "source": [
    "transaction = {\n",
    "    'v1':\t-0.260648,\n",
    "    'v2':\t-0.469648,\n",
    "    'v3':\t2.496266 ,\n",
    "    'v4':\t-0.083724,\n",
    "    'v5':\t0.129681 ,\n",
    "    'v6':\t0.732898 ,\n",
    "    'v7':\t0.519014 ,\n",
    "    'v8':\t-0.130006,\n",
    "    'v9':\t0.727159 ,\n",
    "    'v10':\t0.637735 ,\n",
    "    'v11':\t-0.987020,\n",
    "    'v12':\t0.293438 ,\n",
    "    'v13':\t-0.941386,\n",
    "    'v14':\t0.549020 ,\n",
    "    'v15':\t1.804879 ,\n",
    "    'v16':\t0.215598 ,\n",
    "    'v17':\t0.512307 ,\n",
    "    'v18':\t0.333644 ,\n",
    "    'v19':\t0.124270 ,\n",
    "    'v20':\t0.091202 ,\n",
    "    'v21':\t-0.110552,\n",
    "    'v22':\t0.217606 ,\n",
    "    'v23':\t-0.134794,\n",
    "    'v24':\t0.165959 ,\n",
    "    'v25':\t0.126280 ,\n",
    "    'v26':\t-0.434824,\n",
    "    'v27':\t-0.081230,\n",
    "    'v28':\t-0.151045,\n",
    "    'amount':\t17982.10\n",
    "}"
   ]
  },
  {
   "cell_type": "code",
   "execution_count": 210,
   "metadata": {},
   "outputs": [
    {
     "data": {
      "text/plain": [
       "0.07450897649061311"
      ]
     },
     "execution_count": 210,
     "metadata": {},
     "output_type": "execute_result"
    }
   ],
   "source": [
    "X_test = dv.transform([transaction])\n",
    "model.predict_proba(X_test)[0, 1]"
   ]
  },
  {
   "cell_type": "code",
   "execution_count": 216,
   "metadata": {},
   "outputs": [
    {
     "data": {
      "text/html": [
       "<div>\n",
       "<style scoped>\n",
       "    .dataframe tbody tr th:only-of-type {\n",
       "        vertical-align: middle;\n",
       "    }\n",
       "\n",
       "    .dataframe tbody tr th {\n",
       "        vertical-align: top;\n",
       "    }\n",
       "\n",
       "    .dataframe thead th {\n",
       "        text-align: right;\n",
       "    }\n",
       "</style>\n",
       "<table border=\"1\" class=\"dataframe\">\n",
       "  <thead>\n",
       "    <tr style=\"text-align: right;\">\n",
       "      <th></th>\n",
       "      <th>v1</th>\n",
       "      <th>v2</th>\n",
       "      <th>v3</th>\n",
       "      <th>v4</th>\n",
       "      <th>v5</th>\n",
       "      <th>v6</th>\n",
       "      <th>v7</th>\n",
       "      <th>v8</th>\n",
       "      <th>v9</th>\n",
       "      <th>v10</th>\n",
       "      <th>...</th>\n",
       "      <th>v21</th>\n",
       "      <th>v22</th>\n",
       "      <th>v23</th>\n",
       "      <th>v24</th>\n",
       "      <th>v25</th>\n",
       "      <th>v26</th>\n",
       "      <th>v27</th>\n",
       "      <th>v28</th>\n",
       "      <th>amount</th>\n",
       "      <th>is_fraud</th>\n",
       "    </tr>\n",
       "  </thead>\n",
       "  <tbody>\n",
       "    <tr>\n",
       "      <th>0</th>\n",
       "      <td>0.336500</td>\n",
       "      <td>-0.003582</td>\n",
       "      <td>-0.080244</td>\n",
       "      <td>0.653870</td>\n",
       "      <td>-0.142854</td>\n",
       "      <td>0.254843</td>\n",
       "      <td>-0.219874</td>\n",
       "      <td>0.033482</td>\n",
       "      <td>-0.304848</td>\n",
       "      <td>-0.218019</td>\n",
       "      <td>...</td>\n",
       "      <td>0.048555</td>\n",
       "      <td>-0.228407</td>\n",
       "      <td>-0.213986</td>\n",
       "      <td>-0.256662</td>\n",
       "      <td>1.154472</td>\n",
       "      <td>0.314839</td>\n",
       "      <td>0.504903</td>\n",
       "      <td>0.619695</td>\n",
       "      <td>22329.89</td>\n",
       "      <td>1</td>\n",
       "    </tr>\n",
       "    <tr>\n",
       "      <th>1</th>\n",
       "      <td>1.700984</td>\n",
       "      <td>-0.582394</td>\n",
       "      <td>0.380815</td>\n",
       "      <td>-0.399732</td>\n",
       "      <td>-0.009281</td>\n",
       "      <td>0.163077</td>\n",
       "      <td>0.251130</td>\n",
       "      <td>-0.165813</td>\n",
       "      <td>1.520520</td>\n",
       "      <td>0.523004</td>\n",
       "      <td>...</td>\n",
       "      <td>-0.022266</td>\n",
       "      <td>0.803606</td>\n",
       "      <td>0.100461</td>\n",
       "      <td>0.078539</td>\n",
       "      <td>-0.245740</td>\n",
       "      <td>-0.489491</td>\n",
       "      <td>-0.183407</td>\n",
       "      <td>-0.187326</td>\n",
       "      <td>10544.57</td>\n",
       "      <td>0</td>\n",
       "    </tr>\n",
       "    <tr>\n",
       "      <th>2</th>\n",
       "      <td>1.639679</td>\n",
       "      <td>-0.840494</td>\n",
       "      <td>-0.246348</td>\n",
       "      <td>-1.302124</td>\n",
       "      <td>0.574683</td>\n",
       "      <td>0.661464</td>\n",
       "      <td>0.469762</td>\n",
       "      <td>-0.167920</td>\n",
       "      <td>-0.133462</td>\n",
       "      <td>1.055853</td>\n",
       "      <td>...</td>\n",
       "      <td>0.098337</td>\n",
       "      <td>1.241228</td>\n",
       "      <td>-0.210194</td>\n",
       "      <td>-2.434327</td>\n",
       "      <td>0.319433</td>\n",
       "      <td>0.409695</td>\n",
       "      <td>-0.302297</td>\n",
       "      <td>-0.308798</td>\n",
       "      <td>16044.24</td>\n",
       "      <td>0</td>\n",
       "    </tr>\n",
       "    <tr>\n",
       "      <th>3</th>\n",
       "      <td>-0.047677</td>\n",
       "      <td>-0.002176</td>\n",
       "      <td>1.773296</td>\n",
       "      <td>0.212457</td>\n",
       "      <td>0.400729</td>\n",
       "      <td>0.337227</td>\n",
       "      <td>0.705040</td>\n",
       "      <td>-0.173811</td>\n",
       "      <td>-0.244432</td>\n",
       "      <td>0.888072</td>\n",
       "      <td>...</td>\n",
       "      <td>-0.087371</td>\n",
       "      <td>0.012384</td>\n",
       "      <td>0.061284</td>\n",
       "      <td>1.312095</td>\n",
       "      <td>-1.221869</td>\n",
       "      <td>-0.527945</td>\n",
       "      <td>-0.344379</td>\n",
       "      <td>0.344051</td>\n",
       "      <td>17008.99</td>\n",
       "      <td>0</td>\n",
       "    </tr>\n",
       "    <tr>\n",
       "      <th>4</th>\n",
       "      <td>0.889614</td>\n",
       "      <td>-0.418704</td>\n",
       "      <td>0.945746</td>\n",
       "      <td>-0.087827</td>\n",
       "      <td>0.071641</td>\n",
       "      <td>0.329874</td>\n",
       "      <td>0.412481</td>\n",
       "      <td>-0.149524</td>\n",
       "      <td>0.762666</td>\n",
       "      <td>0.502333</td>\n",
       "      <td>...</td>\n",
       "      <td>-0.184223</td>\n",
       "      <td>-0.409151</td>\n",
       "      <td>0.060121</td>\n",
       "      <td>0.823629</td>\n",
       "      <td>0.547985</td>\n",
       "      <td>-1.344083</td>\n",
       "      <td>-0.175527</td>\n",
       "      <td>-0.019127</td>\n",
       "      <td>14387.98</td>\n",
       "      <td>0</td>\n",
       "    </tr>\n",
       "    <tr>\n",
       "      <th>...</th>\n",
       "      <td>...</td>\n",
       "      <td>...</td>\n",
       "      <td>...</td>\n",
       "      <td>...</td>\n",
       "      <td>...</td>\n",
       "      <td>...</td>\n",
       "      <td>...</td>\n",
       "      <td>...</td>\n",
       "      <td>...</td>\n",
       "      <td>...</td>\n",
       "      <td>...</td>\n",
       "      <td>...</td>\n",
       "      <td>...</td>\n",
       "      <td>...</td>\n",
       "      <td>...</td>\n",
       "      <td>...</td>\n",
       "      <td>...</td>\n",
       "      <td>...</td>\n",
       "      <td>...</td>\n",
       "      <td>...</td>\n",
       "      <td>...</td>\n",
       "    </tr>\n",
       "    <tr>\n",
       "      <th>113721</th>\n",
       "      <td>-0.033558</td>\n",
       "      <td>0.288421</td>\n",
       "      <td>-0.655203</td>\n",
       "      <td>0.552468</td>\n",
       "      <td>0.288476</td>\n",
       "      <td>-0.790429</td>\n",
       "      <td>-0.169895</td>\n",
       "      <td>-0.033720</td>\n",
       "      <td>-0.268823</td>\n",
       "      <td>-0.834510</td>\n",
       "      <td>...</td>\n",
       "      <td>-0.014258</td>\n",
       "      <td>-0.579050</td>\n",
       "      <td>-0.021411</td>\n",
       "      <td>-1.368032</td>\n",
       "      <td>0.881826</td>\n",
       "      <td>-0.801762</td>\n",
       "      <td>0.421942</td>\n",
       "      <td>0.296227</td>\n",
       "      <td>16752.47</td>\n",
       "      <td>1</td>\n",
       "    </tr>\n",
       "    <tr>\n",
       "      <th>113722</th>\n",
       "      <td>-0.093607</td>\n",
       "      <td>-0.365243</td>\n",
       "      <td>0.702991</td>\n",
       "      <td>-2.205083</td>\n",
       "      <td>0.160415</td>\n",
       "      <td>0.516882</td>\n",
       "      <td>0.368300</td>\n",
       "      <td>0.004819</td>\n",
       "      <td>-0.069496</td>\n",
       "      <td>0.547832</td>\n",
       "      <td>...</td>\n",
       "      <td>0.015328</td>\n",
       "      <td>0.578193</td>\n",
       "      <td>-0.151375</td>\n",
       "      <td>0.585791</td>\n",
       "      <td>-0.085307</td>\n",
       "      <td>-0.691673</td>\n",
       "      <td>0.013863</td>\n",
       "      <td>0.204859</td>\n",
       "      <td>20820.81</td>\n",
       "      <td>0</td>\n",
       "    </tr>\n",
       "    <tr>\n",
       "      <th>113723</th>\n",
       "      <td>1.771095</td>\n",
       "      <td>-0.370435</td>\n",
       "      <td>-0.140681</td>\n",
       "      <td>-0.433513</td>\n",
       "      <td>0.560927</td>\n",
       "      <td>-0.080014</td>\n",
       "      <td>0.606014</td>\n",
       "      <td>-0.232037</td>\n",
       "      <td>0.607913</td>\n",
       "      <td>0.427968</td>\n",
       "      <td>...</td>\n",
       "      <td>-0.186995</td>\n",
       "      <td>-0.453498</td>\n",
       "      <td>0.172448</td>\n",
       "      <td>1.197218</td>\n",
       "      <td>-0.129668</td>\n",
       "      <td>0.739879</td>\n",
       "      <td>-0.316310</td>\n",
       "      <td>-0.172494</td>\n",
       "      <td>3560.77</td>\n",
       "      <td>0</td>\n",
       "    </tr>\n",
       "    <tr>\n",
       "      <th>113724</th>\n",
       "      <td>0.960143</td>\n",
       "      <td>-0.462885</td>\n",
       "      <td>0.928690</td>\n",
       "      <td>-0.449052</td>\n",
       "      <td>0.094206</td>\n",
       "      <td>0.618636</td>\n",
       "      <td>0.266098</td>\n",
       "      <td>-0.095406</td>\n",
       "      <td>0.592323</td>\n",
       "      <td>0.617731</td>\n",
       "      <td>...</td>\n",
       "      <td>-0.115343</td>\n",
       "      <td>-0.123980</td>\n",
       "      <td>0.048267</td>\n",
       "      <td>-0.494706</td>\n",
       "      <td>0.075112</td>\n",
       "      <td>0.554134</td>\n",
       "      <td>-0.232112</td>\n",
       "      <td>-0.077394</td>\n",
       "      <td>2365.81</td>\n",
       "      <td>0</td>\n",
       "    </tr>\n",
       "    <tr>\n",
       "      <th>113725</th>\n",
       "      <td>-1.504343</td>\n",
       "      <td>1.432277</td>\n",
       "      <td>-1.802082</td>\n",
       "      <td>1.643889</td>\n",
       "      <td>-1.829615</td>\n",
       "      <td>-2.562802</td>\n",
       "      <td>-1.713279</td>\n",
       "      <td>1.693645</td>\n",
       "      <td>-1.415080</td>\n",
       "      <td>-2.133222</td>\n",
       "      <td>...</td>\n",
       "      <td>0.889400</td>\n",
       "      <td>0.626552</td>\n",
       "      <td>-1.108923</td>\n",
       "      <td>0.976281</td>\n",
       "      <td>0.557059</td>\n",
       "      <td>1.110228</td>\n",
       "      <td>-1.550361</td>\n",
       "      <td>-1.286460</td>\n",
       "      <td>4095.24</td>\n",
       "      <td>1</td>\n",
       "    </tr>\n",
       "  </tbody>\n",
       "</table>\n",
       "<p>113726 rows × 30 columns</p>\n",
       "</div>"
      ],
      "text/plain": [
       "              v1        v2        v3        v4        v5        v6        v7  \\\n",
       "0       0.336500 -0.003582 -0.080244  0.653870 -0.142854  0.254843 -0.219874   \n",
       "1       1.700984 -0.582394  0.380815 -0.399732 -0.009281  0.163077  0.251130   \n",
       "2       1.639679 -0.840494 -0.246348 -1.302124  0.574683  0.661464  0.469762   \n",
       "3      -0.047677 -0.002176  1.773296  0.212457  0.400729  0.337227  0.705040   \n",
       "4       0.889614 -0.418704  0.945746 -0.087827  0.071641  0.329874  0.412481   \n",
       "...          ...       ...       ...       ...       ...       ...       ...   \n",
       "113721 -0.033558  0.288421 -0.655203  0.552468  0.288476 -0.790429 -0.169895   \n",
       "113722 -0.093607 -0.365243  0.702991 -2.205083  0.160415  0.516882  0.368300   \n",
       "113723  1.771095 -0.370435 -0.140681 -0.433513  0.560927 -0.080014  0.606014   \n",
       "113724  0.960143 -0.462885  0.928690 -0.449052  0.094206  0.618636  0.266098   \n",
       "113725 -1.504343  1.432277 -1.802082  1.643889 -1.829615 -2.562802 -1.713279   \n",
       "\n",
       "              v8        v9       v10  ...       v21       v22       v23  \\\n",
       "0       0.033482 -0.304848 -0.218019  ...  0.048555 -0.228407 -0.213986   \n",
       "1      -0.165813  1.520520  0.523004  ... -0.022266  0.803606  0.100461   \n",
       "2      -0.167920 -0.133462  1.055853  ...  0.098337  1.241228 -0.210194   \n",
       "3      -0.173811 -0.244432  0.888072  ... -0.087371  0.012384  0.061284   \n",
       "4      -0.149524  0.762666  0.502333  ... -0.184223 -0.409151  0.060121   \n",
       "...          ...       ...       ...  ...       ...       ...       ...   \n",
       "113721 -0.033720 -0.268823 -0.834510  ... -0.014258 -0.579050 -0.021411   \n",
       "113722  0.004819 -0.069496  0.547832  ...  0.015328  0.578193 -0.151375   \n",
       "113723 -0.232037  0.607913  0.427968  ... -0.186995 -0.453498  0.172448   \n",
       "113724 -0.095406  0.592323  0.617731  ... -0.115343 -0.123980  0.048267   \n",
       "113725  1.693645 -1.415080 -2.133222  ...  0.889400  0.626552 -1.108923   \n",
       "\n",
       "             v24       v25       v26       v27       v28    amount  is_fraud  \n",
       "0      -0.256662  1.154472  0.314839  0.504903  0.619695  22329.89         1  \n",
       "1       0.078539 -0.245740 -0.489491 -0.183407 -0.187326  10544.57         0  \n",
       "2      -2.434327  0.319433  0.409695 -0.302297 -0.308798  16044.24         0  \n",
       "3       1.312095 -1.221869 -0.527945 -0.344379  0.344051  17008.99         0  \n",
       "4       0.823629  0.547985 -1.344083 -0.175527 -0.019127  14387.98         0  \n",
       "...          ...       ...       ...       ...       ...       ...       ...  \n",
       "113721 -1.368032  0.881826 -0.801762  0.421942  0.296227  16752.47         1  \n",
       "113722  0.585791 -0.085307 -0.691673  0.013863  0.204859  20820.81         0  \n",
       "113723  1.197218 -0.129668  0.739879 -0.316310 -0.172494   3560.77         0  \n",
       "113724 -0.494706  0.075112  0.554134 -0.232112 -0.077394   2365.81         0  \n",
       "113725  0.976281  0.557059  1.110228 -1.550361 -1.286460   4095.24         1  \n",
       "\n",
       "[113726 rows x 30 columns]"
      ]
     },
     "execution_count": 216,
     "metadata": {},
     "output_type": "execute_result"
    }
   ],
   "source": [
    "df_test = df_test.reset_index(drop=True)\n",
    "df_test\n"
   ]
  },
  {
   "cell_type": "code",
   "execution_count": 218,
   "metadata": {},
   "outputs": [],
   "source": [
    "# is_fraud\n",
    "fraud_transaction = df_test.iloc[113721].to_dict()\n",
    "del fraud_transaction['is_fraud']"
   ]
  },
  {
   "cell_type": "code",
   "execution_count": 219,
   "metadata": {},
   "outputs": [
    {
     "data": {
      "text/plain": [
       "{'v1': -0.0335575578809119,\n",
       " 'v2': 0.2884209740704909,\n",
       " 'v3': -0.6552026684311129,\n",
       " 'v4': 0.5524678392000437,\n",
       " 'v5': 0.2884764334490886,\n",
       " 'v6': -0.7904285784707954,\n",
       " 'v7': -0.1698952928713465,\n",
       " 'v8': -0.0337200116085323,\n",
       " 'v9': -0.2688227668655253,\n",
       " 'v10': -0.8345097167087562,\n",
       " 'v11': 0.6807863401562353,\n",
       " 'v12': -0.8357221642943429,\n",
       " 'v13': -0.3068338786954186,\n",
       " 'v14': -1.3464807941795962,\n",
       " 'v15': 0.2937327176943412,\n",
       " 'v16': -0.6289820021733992,\n",
       " 'v17': -0.2671837035877011,\n",
       " 'v18': -0.2030513958341415,\n",
       " 'v19': -0.1127423574059127,\n",
       " 'v20': 0.189166390679856,\n",
       " 'v21': -0.0142576784758421,\n",
       " 'v22': -0.5790503009409642,\n",
       " 'v23': -0.0214111083389216,\n",
       " 'v24': -1.3680320099019854,\n",
       " 'v25': 0.8818261314249017,\n",
       " 'v26': -0.8017615150068963,\n",
       " 'v27': 0.4219417488166189,\n",
       " 'v28': 0.2962267584338931,\n",
       " 'amount': 16752.47}"
      ]
     },
     "execution_count": 219,
     "metadata": {},
     "output_type": "execute_result"
    }
   ],
   "source": [
    "fraud_transaction"
   ]
  },
  {
   "cell_type": "code",
   "execution_count": 220,
   "metadata": {},
   "outputs": [
    {
     "data": {
      "text/plain": [
       "0.9999999999028435"
      ]
     },
     "execution_count": 220,
     "metadata": {},
     "output_type": "execute_result"
    }
   ],
   "source": [
    "X_test = dv.transform([fraud_transaction])\n",
    "model.predict_proba(X_test)[0, 1]"
   ]
  }
 ],
 "metadata": {
  "kernelspec": {
   "display_name": "ml-zoomcamp",
   "language": "python",
   "name": "python3"
  },
  "language_info": {
   "codemirror_mode": {
    "name": "ipython",
    "version": 3
   },
   "file_extension": ".py",
   "mimetype": "text/x-python",
   "name": "python",
   "nbconvert_exporter": "python",
   "pygments_lexer": "ipython3",
   "version": "3.9.18"
  }
 },
 "nbformat": 4,
 "nbformat_minor": 2
}
