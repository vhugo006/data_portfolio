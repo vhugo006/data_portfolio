{
 "cells": [
  {
   "cell_type": "markdown",
   "id": "3b7afff9",
   "metadata": {},
   "source": [
    "# Question 1: Version of Pandas"
   ]
  },
  {
   "cell_type": "code",
   "execution_count": 24,
   "id": "fd12d3b7",
   "metadata": {},
   "outputs": [
    {
     "name": "stdout",
     "output_type": "stream",
     "text": [
      "Pandas version: 2.0.3\n"
     ]
    }
   ],
   "source": [
    "import pandas as pd\n",
    "\n",
    "pandas_version = pd.__version__\n",
    "print('Pandas version:', pandas_version)"
   ]
  },
  {
   "cell_type": "markdown",
   "id": "2efd3e9a",
   "metadata": {},
   "source": [
    "# Question 2: Number of columns in the dataset"
   ]
  },
  {
   "cell_type": "code",
   "execution_count": 13,
   "id": "6adf804f",
   "metadata": {},
   "outputs": [
    {
     "name": "stdout",
     "output_type": "stream",
     "text": [
      "       longitude  latitude  housing_median_age  total_rooms  total_bedrooms  \\\n",
      "0        -122.23     37.88                41.0        880.0           129.0   \n",
      "1        -122.22     37.86                21.0       7099.0          1106.0   \n",
      "2        -122.24     37.85                52.0       1467.0           190.0   \n",
      "3        -122.25     37.85                52.0       1274.0           235.0   \n",
      "4        -122.25     37.85                52.0       1627.0           280.0   \n",
      "...          ...       ...                 ...          ...             ...   \n",
      "20635    -121.09     39.48                25.0       1665.0           374.0   \n",
      "20636    -121.21     39.49                18.0        697.0           150.0   \n",
      "20637    -121.22     39.43                17.0       2254.0           485.0   \n",
      "20638    -121.32     39.43                18.0       1860.0           409.0   \n",
      "20639    -121.24     39.37                16.0       2785.0           616.0   \n",
      "\n",
      "       population  households  median_income  median_house_value  \\\n",
      "0           322.0       126.0         8.3252            452600.0   \n",
      "1          2401.0      1138.0         8.3014            358500.0   \n",
      "2           496.0       177.0         7.2574            352100.0   \n",
      "3           558.0       219.0         5.6431            341300.0   \n",
      "4           565.0       259.0         3.8462            342200.0   \n",
      "...           ...         ...            ...                 ...   \n",
      "20635       845.0       330.0         1.5603             78100.0   \n",
      "20636       356.0       114.0         2.5568             77100.0   \n",
      "20637      1007.0       433.0         1.7000             92300.0   \n",
      "20638       741.0       349.0         1.8672             84700.0   \n",
      "20639      1387.0       530.0         2.3886             89400.0   \n",
      "\n",
      "      ocean_proximity  \n",
      "0            NEAR BAY  \n",
      "1            NEAR BAY  \n",
      "2            NEAR BAY  \n",
      "3            NEAR BAY  \n",
      "4            NEAR BAY  \n",
      "...               ...  \n",
      "20635          INLAND  \n",
      "20636          INLAND  \n",
      "20637          INLAND  \n",
      "20638          INLAND  \n",
      "20639          INLAND  \n",
      "\n",
      "[20640 rows x 10 columns]\n",
      "Number of columns: 10\n"
     ]
    }
   ],
   "source": [
    "data_frame = pd.read_csv('housing.csv')\n",
    "print(data_frame)\n",
    "\n",
    "num_columns = data_frame.shape[1]\n",
    "print(f'Number of columns: {num_columns}')"
   ]
  },
  {
   "cell_type": "markdown",
   "id": "5d2ad5e6",
   "metadata": {},
   "source": [
    "# Question 3: Select columns with missing data"
   ]
  },
  {
   "cell_type": "code",
   "execution_count": 6,
   "id": "83727c15",
   "metadata": {},
   "outputs": [
    {
     "name": "stdout",
     "output_type": "stream",
     "text": [
      "Columns with missing values:\n",
      "total_bedrooms    207\n",
      "dtype: int64\n"
     ]
    }
   ],
   "source": [
    "missing_values = data_frame.isnull().sum()\n",
    "\n",
    "print('Columns with missing values:')\n",
    "print(missing_values[missing_values > 0])"
   ]
  },
  {
   "cell_type": "markdown",
   "id": "c6c75aed",
   "metadata": {},
   "source": [
    "# Question 4: Number of unique values in the 'ocean_proximity' column"
   ]
  },
  {
   "cell_type": "code",
   "execution_count": 7,
   "id": "3056fb56",
   "metadata": {},
   "outputs": [
    {
     "name": "stdout",
     "output_type": "stream",
     "text": [
      "Number of unique values in the \"ocean_proximity\" column: 5\n"
     ]
    }
   ],
   "source": [
    "unique_values_count = data_frame['ocean_proximity'].nunique()\n",
    "print('Number of unique values in the \"ocean_proximity\" column:', unique_values_count)"
   ]
  },
  {
   "cell_type": "markdown",
   "id": "83b71974",
   "metadata": {},
   "source": [
    "## Question 5: Average value of the 'median_house_value' for the houses near the bay"
   ]
  },
  {
   "cell_type": "code",
   "execution_count": 9,
   "id": "4416f58d",
   "metadata": {},
   "outputs": [
    {
     "name": "stdout",
     "output_type": "stream",
     "text": [
      "Average median house value for houses near the bay: 259212.31179039303\n"
     ]
    }
   ],
   "source": [
    "houses_near_bay = data_frame[data_frame['ocean_proximity'] == 'NEAR BAY']\n",
    "average_median_house_value_near_bay = houses_near_bay['median_house_value'].mean()\n",
    "\n",
    "print('Average median house value for houses near the bay:', average_median_house_value_near_bay)"
   ]
  },
  {
   "cell_type": "markdown",
   "id": "8ff2d191",
   "metadata": {},
   "source": [
    "# Question 6: Has the mean value changed after filling missing values?"
   ]
  },
  {
   "cell_type": "code",
   "execution_count": 12,
   "id": "6cd4ba0a",
   "metadata": {},
   "outputs": [
    {
     "name": "stdout",
     "output_type": "stream",
     "text": [
      "Mean median house value after filling missing values in total_bedrooms with 0: 206855.81690891474\n"
     ]
    }
   ],
   "source": [
    "data_frame['total_bedrooms'].fillna(0, inplace=True)\n",
    "mean_median_house_value_after_fill = data_frame['median_house_value'].mean()\n",
    "\n",
    "print('Mean median house value after filling missing values in total_bedrooms with 0:', mean_median_house_value_after_fill)"
   ]
  },
  {
   "cell_type": "markdown",
   "id": "598d2141",
   "metadata": {},
   "source": [
    "# Questions 7: Value of the last element of w"
   ]
  },
  {
   "cell_type": "code",
   "execution_count": 30,
   "id": "363edb5c",
   "metadata": {},
   "outputs": [
    {
     "data": {
      "text/plain": [
       "array([23.12330961, -1.48124183,  5.69922946])"
      ]
     },
     "execution_count": 30,
     "metadata": {},
     "output_type": "execute_result"
    }
   ],
   "source": [
    "import numpy as np\n",
    "from sklearn.linear_model import LinearRegression\n",
    "\n",
    "data = pd.read_csv('housing.csv')\n",
    "\n",
    "#1. Select all the options located on islands.\n",
    "island_data = data[data['ocean_proximity'] == 'ISLAND']\n",
    "\n",
    "# 2. Select only columns housing_median_age, total_rooms, total_bedrooms.\n",
    "selected_data = island_data[['housing_median_age', 'total_rooms', 'total_bedrooms']]\n",
    "\n",
    "# 3. Get the underlying NumPy array. Let's call it X.\n",
    "X = selected_data.values\n",
    "\n",
    "# 4. Compute matrix-matrix multiplication between the transpose of X and X. To get the transpose, use X.T. \n",
    "# Let's call the result XTX.\n",
    "#\n",
    "XTX = np.dot(X.T, X)\n",
    "\n",
    "# 5. Compute the inverse of XTX:\n",
    "XTX_inverse = np.linalg.inv(XTX)\n",
    "\n",
    "# 6. Create an array y with values [950, 1300, 800, 1000, 1300].\n",
    "Y = np.array([950, 1300, 800, 1000, 1300])\n",
    "\n",
    "# 7. Multiply the inverse of XTX with the transpose of X, and then multiply the result by y. Call the result w.\n",
    "w = XTX_inverse.dot(X.T).dot(Y)\n",
    "w"
   ]
  }
 ],
 "metadata": {
  "kernelspec": {
   "display_name": "Python 3 (ipykernel)",
   "language": "python",
   "name": "python3"
  },
  "language_info": {
   "codemirror_mode": {
    "name": "ipython",
    "version": 3
   },
   "file_extension": ".py",
   "mimetype": "text/x-python",
   "name": "python",
   "nbconvert_exporter": "python",
   "pygments_lexer": "ipython3",
   "version": "3.9.18"
  }
 },
 "nbformat": 4,
 "nbformat_minor": 5
}
