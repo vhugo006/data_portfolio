{
 "cells": [
  {
   "cell_type": "markdown",
   "id": "0a5809be",
   "metadata": {},
   "source": [
    "# Question 1: Version of Pandas"
   ]
  },
  {
   "cell_type": "code",
   "execution_count": 2,
   "id": "129f2d24",
   "metadata": {},
   "outputs": [
    {
     "name": "stdout",
     "output_type": "stream",
     "text": [
      "Pandas version: 2.0.3\n"
     ]
    }
   ],
   "source": [
    "import pandas as pd\n",
    "\n",
    "pandas_version = pd.__version__\n",
    "print('Pandas version:', pandas_version)"
   ]
  },
  {
   "cell_type": "markdown",
   "id": "a8d2751b",
   "metadata": {},
   "source": [
    "# Question 2: Number of columns in the dataset"
   ]
  },
  {
   "cell_type": "code",
   "execution_count": 3,
   "id": "1fffd40f",
   "metadata": {},
   "outputs": [
    {
     "name": "stdout",
     "output_type": "stream",
     "text": [
      "Number of columns: 10\n"
     ]
    }
   ],
   "source": [
    "data_frame = pd.read_csv('housing.csv')\n",
    "\n",
    "num_columns = data_frame.shape[1]\n",
    "print(f'Number of columns: {num_columns}')"
   ]
  },
  {
   "cell_type": "markdown",
   "id": "00c50282",
   "metadata": {},
   "source": [
    "# Question 3: Select columns with missing data"
   ]
  },
  {
   "cell_type": "code",
   "execution_count": 6,
   "id": "bb5cbec4",
   "metadata": {},
   "outputs": [
    {
     "name": "stdout",
     "output_type": "stream",
     "text": [
      "Columns with missing values:\n",
      "total_bedrooms    207\n",
      "dtype: int64\n"
     ]
    }
   ],
   "source": [
    "missing_values = data_frame.isnull().sum()\n",
    "\n",
    "print('Columns with missing values:')\n",
    "print(missing_values[missing_values > 0])"
   ]
  },
  {
   "cell_type": "markdown",
   "id": "fb297ed8",
   "metadata": {},
   "source": [
    "# Question 4: Number of unique values in the 'ocean_proximity' column"
   ]
  },
  {
   "cell_type": "code",
   "execution_count": 7,
   "id": "33f5476b",
   "metadata": {},
   "outputs": [
    {
     "name": "stdout",
     "output_type": "stream",
     "text": [
      "Number of unique values in the \"ocean_proximity\" column: 5\n"
     ]
    }
   ],
   "source": [
    "unique_values_count = data_frame['ocean_proximity'].nunique()\n",
    "print('Number of unique values in the \"ocean_proximity\" column:', unique_values_count)"
   ]
  },
  {
   "cell_type": "markdown",
   "id": "6462ab48",
   "metadata": {},
   "source": [
    "## Question 5: Average value of the 'median_house_value' for the houses near the bay"
   ]
  },
  {
   "cell_type": "code",
   "execution_count": 9,
   "id": "6e23bc97",
   "metadata": {},
   "outputs": [
    {
     "name": "stdout",
     "output_type": "stream",
     "text": [
      "Average median house value for houses near the bay: 259212.31179039303\n"
     ]
    }
   ],
   "source": [
    "houses_near_bay = data_frame[data_frame['ocean_proximity'] == 'NEAR BAY']\n",
    "average_median_house_value_near_bay = houses_near_bay['median_house_value'].mean()\n",
    "\n",
    "print('Average median house value for houses near the bay:', average_median_house_value_near_bay)"
   ]
  },
  {
   "cell_type": "markdown",
   "id": "7d2bfa40",
   "metadata": {},
   "source": [
    "# Question 6: Has the mean value changed after filling missing values?\n"
   ]
  }
 ],
 "metadata": {
  "kernelspec": {
   "display_name": "Python 3 (ipykernel)",
   "language": "python",
   "name": "python3"
  },
  "language_info": {
   "codemirror_mode": {
    "name": "ipython",
    "version": 3
   },
   "file_extension": ".py",
   "mimetype": "text/x-python",
   "name": "python",
   "nbconvert_exporter": "python",
   "pygments_lexer": "ipython3",
   "version": "3.9.18"
  }
 },
 "nbformat": 4,
 "nbformat_minor": 5
}
