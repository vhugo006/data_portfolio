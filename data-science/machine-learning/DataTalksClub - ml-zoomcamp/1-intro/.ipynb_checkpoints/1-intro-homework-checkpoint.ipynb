{
 "cells": [
  {
   "cell_type": "markdown",
   "id": "227cf340",
   "metadata": {},
   "source": [
    "# Question 1: Version of Pandas"
   ]
  },
  {
   "cell_type": "code",
   "execution_count": 31,
   "id": "d83cd088",
   "metadata": {},
   "outputs": [
    {
     "name": "stdout",
     "output_type": "stream",
     "text": [
      "Pandas version: 2.0.3\n"
     ]
    }
   ],
   "source": [
    "import pandas as pd\n",
    "\n",
    "pandas_version = pd.__version__\n",
    "print('Pandas version:', pandas_version)"
   ]
  },
  {
   "cell_type": "markdown",
   "id": "569f9450",
   "metadata": {},
   "source": [
    "# Question 2: Number of columns in the dataset"
   ]
  },
  {
   "cell_type": "code",
   "execution_count": 32,
   "id": "8d06c761",
   "metadata": {},
   "outputs": [
    {
     "name": "stdout",
     "output_type": "stream",
     "text": [
      "Number of columns: 10\n"
     ]
    }
   ],
   "source": [
    "data_frame = pd.read_csv('housing.csv')\n",
    "\n",
    "num_columns = data_frame.shape[1]\n",
    "print(f'Number of columns: {num_columns}')"
   ]
  },
  {
   "cell_type": "markdown",
   "id": "c0d31db6",
   "metadata": {},
   "source": [
    "# Question 3: Select columns with missing data"
   ]
  },
  {
   "cell_type": "code",
   "execution_count": 33,
   "id": "17ea96ca",
   "metadata": {},
   "outputs": [
    {
     "name": "stdout",
     "output_type": "stream",
     "text": [
      "Columns with missing values:\n",
      "total_bedrooms    207\n",
      "dtype: int64\n"
     ]
    }
   ],
   "source": [
    "missing_values = data_frame.isnull().sum()\n",
    "\n",
    "print('Columns with missing values:')\n",
    "print(missing_values[missing_values > 0])"
   ]
  },
  {
   "cell_type": "markdown",
   "id": "d8fa467b",
   "metadata": {},
   "source": [
    "# Question 4: Number of unique values in the 'ocean_proximity' column"
   ]
  },
  {
   "cell_type": "code",
   "execution_count": 34,
   "id": "4e0b1651",
   "metadata": {},
   "outputs": [
    {
     "name": "stdout",
     "output_type": "stream",
     "text": [
      "Number of unique values in the \"ocean_proximity\" column: 5\n"
     ]
    }
   ],
   "source": [
    "unique_values_count = data_frame['ocean_proximity'].nunique()\n",
    "print('Number of unique values in the \"ocean_proximity\" column:', unique_values_count)"
   ]
  },
  {
   "cell_type": "markdown",
   "id": "d23f615d",
   "metadata": {},
   "source": [
    "## Question 5: Average value of the 'median_house_value' for the houses near the bay"
   ]
  },
  {
   "cell_type": "code",
   "execution_count": 35,
   "id": "f0fff288",
   "metadata": {},
   "outputs": [
    {
     "name": "stdout",
     "output_type": "stream",
     "text": [
      "Average median house value for houses near the bay: 259212.31179039303\n"
     ]
    }
   ],
   "source": [
    "houses_near_bay = data_frame[data_frame['ocean_proximity'] == 'NEAR BAY']\n",
    "average_median_house_value_near_bay = houses_near_bay['median_house_value'].mean()\n",
    "\n",
    "print('Average median house value for houses near the bay:', average_median_house_value_near_bay)"
   ]
  },
  {
   "cell_type": "markdown",
   "id": "d6cb8556",
   "metadata": {},
   "source": [
    "# Question 6: Has the mean value changed after filling missing values?"
   ]
  },
  {
   "cell_type": "code",
   "execution_count": 36,
   "id": "6f459e07",
   "metadata": {},
   "outputs": [
    {
     "name": "stdout",
     "output_type": "stream",
     "text": [
      "Mean median house value after filling missing values in total_bedrooms with 0: 206855.81690891474\n"
     ]
    }
   ],
   "source": [
    "data_frame['total_bedrooms'].fillna(0, inplace=True)\n",
    "mean_median_house_value_after_fill = data_frame['median_house_value'].mean()\n",
    "\n",
    "print('Mean median house value after filling missing values in total_bedrooms with 0:', mean_median_house_value_after_fill)"
   ]
  },
  {
   "cell_type": "markdown",
   "id": "a78363d2",
   "metadata": {},
   "source": [
    "# Questions 7: Value of the last element of w"
   ]
  },
  {
   "cell_type": "code",
   "execution_count": 38,
   "id": "26264b08",
   "metadata": {},
   "outputs": [
    {
     "data": {
      "text/plain": [
       "5.6992294550655656"
      ]
     },
     "execution_count": 38,
     "metadata": {},
     "output_type": "execute_result"
    }
   ],
   "source": [
    "import numpy as np\n",
    "from sklearn.linear_model import LinearRegression\n",
    "\n",
    "data = pd.read_csv('housing.csv')\n",
    "\n",
    "#1. Select all the options located on islands.\n",
    "island_data = data[data['ocean_proximity'] == 'ISLAND']\n",
    "\n",
    "# 2. Select only columns housing_median_age, total_rooms, total_bedrooms.\n",
    "selected_data = island_data[['housing_median_age', 'total_rooms', 'total_bedrooms']]\n",
    "\n",
    "# 3. Get the underlying NumPy array. Let's call it X.\n",
    "X = selected_data.values\n",
    "\n",
    "# 4. Compute matrix-matrix multiplication between the transpose of X and X. To get the transpose, use X.T. \n",
    "# Let's call the result XTX.\n",
    "#\n",
    "XTX = np.dot(X.T, X)\n",
    "\n",
    "# 5. Compute the inverse of XTX:\n",
    "XTX_inverse = np.linalg.inv(XTX)\n",
    "\n",
    "# 6. Create an array y with values [950, 1300, 800, 1000, 1300].\n",
    "Y = np.array([950, 1300, 800, 1000, 1300])\n",
    "\n",
    "# 7. Multiply the inverse of XTX with the transpose of X, and then multiply the result by y. Call the result w.\n",
    "w = XTX_inverse.dot(X.T).dot(Y)\n",
    "w[-1]"
   ]
  }
 ],
 "metadata": {
  "kernelspec": {
   "display_name": "Python 3 (ipykernel)",
   "language": "python",
   "name": "python3"
  },
  "language_info": {
   "codemirror_mode": {
    "name": "ipython",
    "version": 3
   },
   "file_extension": ".py",
   "mimetype": "text/x-python",
   "name": "python",
   "nbconvert_exporter": "python",
   "pygments_lexer": "ipython3",
   "version": "3.9.18"
  }
 },
 "nbformat": 4,
 "nbformat_minor": 5
}
