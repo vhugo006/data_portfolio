{
 "cells": [
  {
   "cell_type": "markdown",
   "id": "dfa0af1e",
   "metadata": {},
   "source": [
    "## Key Concepts in Linear Algebra for Linear Regression:\n",
    "#### 1. Scalars, Vectors, and Matrices:"
   ]
  },
  {
   "cell_type": "code",
   "execution_count": 4,
   "id": "fe017203",
   "metadata": {},
   "outputs": [
    {
     "data": {
      "text/plain": [
       "(10, [10, 12, 43, 14], [[10, 12, 43, 14], [10, 12, 43, 14]])"
      ]
     },
     "execution_count": 4,
     "metadata": {},
     "output_type": "execute_result"
    }
   ],
   "source": [
    "import numpy as np\n",
    "\n",
    "# A scalar is a single number.\n",
    "\n",
    "scalar = 10\n",
    "\n",
    "# A vector is an array of numbers (1D).\n",
    "vector = [10, 12, 43, 14]\n",
    "\n",
    "# A matrix is a 2D array of numbers.\n",
    "matrix = [[10, 12, 43, 14],\n",
    "          [10, 12, 43, 14]]\n",
    "\n",
    "scalar, vector, matrix"
   ]
  },
  {
   "cell_type": "markdown",
   "id": "feaddfd7",
   "metadata": {},
   "source": [
    "## Vector Operations:\n",
    "#### Addition\n",
    "\n",
    "Given v is a vector and w is a vector\n",
    "\n",
    "v + w = [v1 + w1, v2 + w2, ..., vn + wn]"
   ]
  },
  {
   "cell_type": "code",
   "execution_count": null,
   "id": "538f88c6",
   "metadata": {},
   "outputs": [],
   "source": [
    "v = np.array([10, 20, 30, 40])\n",
    "w = np.ones(4)\n",
    "\n",
    "v + w"
   ]
  },
  {
   "cell_type": "markdown",
   "id": "8e0944c5",
   "metadata": {},
   "source": [
    "#### Subtraction\n",
    "Given v is a vector and w is a vector\n",
    "\n",
    "v - w = [v1 - w1, v2 - w2, ..., vn - wn]"
   ]
  },
  {
   "cell_type": "code",
   "execution_count": 8,
   "id": "2459c614",
   "metadata": {},
   "outputs": [
    {
     "data": {
      "text/plain": [
       "array([ 9., 19., 29., 39.])"
      ]
     },
     "execution_count": 8,
     "metadata": {},
     "output_type": "execute_result"
    }
   ],
   "source": [
    "v = np.array([10, 20, 30, 40])\n",
    "w = np.ones(4)\n",
    "v - w"
   ]
  },
  {
   "cell_type": "markdown",
   "id": "babfb37e",
   "metadata": {},
   "source": [
    "#### Multiplication\n",
    "Given v is a vector and w is a vector\n",
    "\n",
    "v * w = [v1 * w1, v2 * w2, ..., vn * wn]"
   ]
  },
  {
   "cell_type": "code",
   "execution_count": 9,
   "id": "9a57fc4e",
   "metadata": {},
   "outputs": [
    {
     "data": {
      "text/plain": [
       "array([20, 40, 60, 80])"
      ]
     },
     "execution_count": 9,
     "metadata": {},
     "output_type": "execute_result"
    }
   ],
   "source": [
    "v = np.array([10, 20, 30, 40])\n",
    "w = np.array([2, 2, 2, 2])\n",
    "v * w"
   ]
  },
  {
   "cell_type": "markdown",
   "id": "91047459",
   "metadata": {},
   "source": [
    "#### Division\n",
    "Given v is a vector and w is a vector\n",
    "\n",
    "v / w = [v1 / w1, v2 / w2, ..., vn / wn]"
   ]
  },
  {
   "cell_type": "code",
   "execution_count": 10,
   "id": "c1e19004",
   "metadata": {},
   "outputs": [
    {
     "data": {
      "text/plain": [
       "array([ 5., 10., 15., 20.])"
      ]
     },
     "execution_count": 10,
     "metadata": {},
     "output_type": "execute_result"
    }
   ],
   "source": [
    "v = np.array([10, 20, 30, 40])\n",
    "w = np.array([2, 2, 2, 2])\n",
    "v / w"
   ]
  },
  {
   "cell_type": "markdown",
   "id": "e85e4d78",
   "metadata": {},
   "source": [
    "## Matrix Operations:\n",
    "#### Matrix addition and subtraction."
   ]
  },
  {
   "cell_type": "code",
   "execution_count": 13,
   "id": "1a7101af",
   "metadata": {},
   "outputs": [
    {
     "data": {
      "text/plain": [
       "array([[20, 30, 40],\n",
       "       [30, 40, 50],\n",
       "       [40, 50, 60]])"
      ]
     },
     "execution_count": 13,
     "metadata": {},
     "output_type": "execute_result"
    }
   ],
   "source": [
    "# Addition\n",
    "matrix = np.array([[10, 20, 30],\n",
    "                   [20, 30, 40],\n",
    "                   [30, 40, 50]])\n",
    "\n",
    "ten = 10\n",
    "ten + matrix"
   ]
  },
  {
   "cell_type": "code",
   "execution_count": 12,
   "id": "7ddac759",
   "metadata": {},
   "outputs": [
    {
     "data": {
      "text/plain": [
       "array([[  0, -10, -20],\n",
       "       [  0, -10, -20],\n",
       "       [  0, -10, -20]])"
      ]
     },
     "execution_count": 12,
     "metadata": {},
     "output_type": "execute_result"
    }
   ],
   "source": [
    "# Subtraction\n",
    "ten - matrix"
   ]
  },
  {
   "cell_type": "code",
   "execution_count": 14,
   "id": "aab356da",
   "metadata": {},
   "outputs": [
    {
     "data": {
      "text/plain": [
       "array([[ 0, 10, 20],\n",
       "       [10, 20, 30],\n",
       "       [20, 30, 40]])"
      ]
     },
     "execution_count": 14,
     "metadata": {},
     "output_type": "execute_result"
    }
   ],
   "source": [
    "matrix - ten"
   ]
  },
  {
   "cell_type": "markdown",
   "id": "46eb13ff",
   "metadata": {},
   "source": [
    "#### Scalar multiplication and division for matrices."
   ]
  },
  {
   "cell_type": "code",
   "execution_count": 16,
   "id": "60dd4d5a",
   "metadata": {},
   "outputs": [
    {
     "data": {
      "text/plain": [
       "array([[100, 200, 300],\n",
       "       [200, 300, 400],\n",
       "       [300, 400, 500]])"
      ]
     },
     "execution_count": 16,
     "metadata": {},
     "output_type": "execute_result"
    }
   ],
   "source": [
    "# Multiplication\n",
    "matrix = np.array([[10, 20, 30],\n",
    "                   [20, 30, 40],\n",
    "                   [30, 40, 50]])\n",
    "\n",
    "ten = 10\n",
    "\n",
    "matrix * ten"
   ]
  },
  {
   "cell_type": "code",
   "execution_count": 17,
   "id": "519d1fb1",
   "metadata": {},
   "outputs": [
    {
     "data": {
      "text/plain": [
       "array([[1., 2., 3.],\n",
       "       [2., 3., 4.],\n",
       "       [3., 4., 5.]])"
      ]
     },
     "execution_count": 17,
     "metadata": {},
     "output_type": "execute_result"
    }
   ],
   "source": [
    "# Division\n",
    "matrix = np.array([[10, 20, 30],\n",
    "                   [20, 30, 40],\n",
    "                   [30, 40, 50]])\n",
    "\n",
    "ten = 10\n",
    "\n",
    "matrix / ten"
   ]
  },
  {
   "cell_type": "markdown",
   "id": "3150cdba",
   "metadata": {},
   "source": [
    "#### Vector Vector Multiplication.\n",
    "\n",
    "Returns a value"
   ]
  },
  {
   "cell_type": "code",
   "execution_count": 29,
   "id": "22c139bf",
   "metadata": {},
   "outputs": [
    {
     "data": {
      "text/plain": [
       "500"
      ]
     },
     "execution_count": 29,
     "metadata": {},
     "output_type": "execute_result"
    }
   ],
   "source": [
    "v1 = np.array([10,20])\n",
    "v2 = np.array([10,20])\n",
    "\n",
    "v1.dot(v2)"
   ]
  },
  {
   "cell_type": "markdown",
   "id": "ae4792a3",
   "metadata": {},
   "source": [
    "#### Matrix multiplication (a fundamental operation used in linear regression)."
   ]
  },
  {
   "cell_type": "code",
   "execution_count": 30,
   "id": "b27ea760",
   "metadata": {},
   "outputs": [
    {
     "data": {
      "text/plain": [
       "array([[ 70, 100],\n",
       "       [110, 160]])"
      ]
     },
     "execution_count": 30,
     "metadata": {},
     "output_type": "execute_result"
    }
   ],
   "source": [
    "# square matrices\n",
    "matrix_x = np.array([[10, 20],\n",
    "                     [20, 30]])\n",
    "\n",
    "matrix_y = np.array([[1, 2],\n",
    "                     [3, 4]])\n",
    "\n",
    "# [[70, 100],\n",
    "#  [110, 160]]\n",
    "\n",
    "# matrix_x.dot(matrix_y)\n",
    "matrix_x, matrix_y\n",
    "\n",
    "# transpose\n",
    "matrix_x.dot(matrix_y)"
   ]
  },
  {
   "cell_type": "code",
   "execution_count": null,
   "id": "2a894fce",
   "metadata": {},
   "outputs": [],
   "source": [
    "# not square matrices\n",
    "matrix_x = np.array([[10, 20],\n",
    "                     [20, 30],\n",
    "                     [40, 50]])\n",
    "\n",
    "matrix_y = np.array([[1, 2],\n",
    "                     [3, 4]])"
   ]
  }
 ],
 "metadata": {
  "kernelspec": {
   "display_name": "Python 3 (ipykernel)",
   "language": "python",
   "name": "python3"
  },
  "language_info": {
   "codemirror_mode": {
    "name": "ipython",
    "version": 3
   },
   "file_extension": ".py",
   "mimetype": "text/x-python",
   "name": "python",
   "nbconvert_exporter": "python",
   "pygments_lexer": "ipython3",
   "version": "3.11.4"
  }
 },
 "nbformat": 4,
 "nbformat_minor": 5
}
